{
 "cells": [
  {
   "cell_type": "markdown",
   "metadata": {},
   "source": [
    "# Chapter2"
   ]
  },
  {
   "cell_type": "markdown",
   "metadata": {},
   "source": [
    "## 2.2"
   ]
  },
  {
   "cell_type": "code",
   "execution_count": 1,
   "metadata": {
    "collapsed": false
   },
   "outputs": [
    {
     "data": {
      "text/html": [
       "100"
      ],
      "text/latex": [
       "100"
      ],
      "text/markdown": [
       "100"
      ],
      "text/plain": [
       "[1] 100"
      ]
     },
     "metadata": {},
     "output_type": "display_data"
    }
   ],
   "source": [
    "50 + 50"
   ]
  },
  {
   "cell_type": "code",
   "execution_count": 2,
   "metadata": {
    "collapsed": false
   },
   "outputs": [
    {
     "data": {
      "text/html": [
       "15"
      ],
      "text/latex": [
       "15"
      ],
      "text/markdown": [
       "15"
      ],
      "text/plain": [
       "[1] 15"
      ]
     },
     "metadata": {},
     "output_type": "display_data"
    }
   ],
   "source": [
    "1 + 2 + 3 + 4 + 5"
   ]
  },
  {
   "cell_type": "code",
   "execution_count": 3,
   "metadata": {
    "collapsed": true
   },
   "outputs": [],
   "source": [
    "a <- 50 + 50"
   ]
  },
  {
   "cell_type": "code",
   "execution_count": 4,
   "metadata": {
    "collapsed": false
   },
   "outputs": [
    {
     "data": {
      "text/html": [
       "100"
      ],
      "text/latex": [
       "100"
      ],
      "text/markdown": [
       "100"
      ],
      "text/plain": [
       "[1] 100"
      ]
     },
     "metadata": {},
     "output_type": "display_data"
    }
   ],
   "source": [
    "a"
   ]
  },
  {
   "cell_type": "code",
   "execution_count": 5,
   "metadata": {
    "collapsed": true
   },
   "outputs": [],
   "source": [
    "b <- a"
   ]
  },
  {
   "cell_type": "code",
   "execution_count": 6,
   "metadata": {
    "collapsed": false
   },
   "outputs": [
    {
     "data": {
      "text/html": [
       "100"
      ],
      "text/latex": [
       "100"
      ],
      "text/markdown": [
       "100"
      ],
      "text/plain": [
       "[1] 100"
      ]
     },
     "metadata": {},
     "output_type": "display_data"
    }
   ],
   "source": [
    "a"
   ]
  },
  {
   "cell_type": "code",
   "execution_count": 7,
   "metadata": {
    "collapsed": false
   },
   "outputs": [
    {
     "data": {
      "text/html": [
       "100"
      ],
      "text/latex": [
       "100"
      ],
      "text/markdown": [
       "100"
      ],
      "text/plain": [
       "[1] 100"
      ]
     },
     "metadata": {},
     "output_type": "display_data"
    }
   ],
   "source": [
    "b"
   ]
  },
  {
   "cell_type": "code",
   "execution_count": 8,
   "metadata": {
    "collapsed": true
   },
   "outputs": [],
   "source": [
    "a <- 5"
   ]
  },
  {
   "cell_type": "code",
   "execution_count": 9,
   "metadata": {
    "collapsed": false
   },
   "outputs": [
    {
     "data": {
      "text/html": [
       "5"
      ],
      "text/latex": [
       "5"
      ],
      "text/markdown": [
       "5"
      ],
      "text/plain": [
       "[1] 5"
      ]
     },
     "metadata": {},
     "output_type": "display_data"
    }
   ],
   "source": [
    "a"
   ]
  },
  {
   "cell_type": "code",
   "execution_count": 10,
   "metadata": {
    "collapsed": false
   },
   "outputs": [
    {
     "data": {
      "text/html": [
       "100"
      ],
      "text/latex": [
       "100"
      ],
      "text/markdown": [
       "100"
      ],
      "text/plain": [
       "[1] 100"
      ]
     },
     "metadata": {},
     "output_type": "display_data"
    }
   ],
   "source": [
    "b"
   ]
  },
  {
   "cell_type": "code",
   "execution_count": 11,
   "metadata": {
    "collapsed": true
   },
   "outputs": [],
   "source": [
    "a <- 1"
   ]
  },
  {
   "cell_type": "code",
   "execution_count": 12,
   "metadata": {
    "collapsed": false
   },
   "outputs": [
    {
     "data": {
      "text/html": [
       "TRUE"
      ],
      "text/latex": [
       "TRUE"
      ],
      "text/markdown": [
       "TRUE"
      ],
      "text/plain": [
       "[1] TRUE"
      ]
     },
     "metadata": {},
     "output_type": "display_data"
    }
   ],
   "source": [
    "is.vector(a)"
   ]
  },
  {
   "cell_type": "code",
   "execution_count": 13,
   "metadata": {
    "collapsed": false
   },
   "outputs": [
    {
     "data": {
      "text/html": [
       "'numeric'"
      ],
      "text/latex": [
       "'numeric'"
      ],
      "text/markdown": [
       "'numeric'"
      ],
      "text/plain": [
       "[1] \"numeric\""
      ]
     },
     "metadata": {},
     "output_type": "display_data"
    }
   ],
   "source": [
    "mode(a)"
   ]
  },
  {
   "cell_type": "code",
   "execution_count": 14,
   "metadata": {
    "collapsed": false
   },
   "outputs": [
    {
     "data": {
      "text/html": [
       "'double'"
      ],
      "text/latex": [
       "'double'"
      ],
      "text/markdown": [
       "'double'"
      ],
      "text/plain": [
       "[1] \"double\""
      ]
     },
     "metadata": {},
     "output_type": "display_data"
    }
   ],
   "source": [
    "storage.mode(a)"
   ]
  },
  {
   "cell_type": "code",
   "execution_count": 15,
   "metadata": {
    "collapsed": false
   },
   "outputs": [
    {
     "data": {
      "text/html": [
       "'numeric'"
      ],
      "text/latex": [
       "'numeric'"
      ],
      "text/markdown": [
       "'numeric'"
      ],
      "text/plain": [
       "[1] \"numeric\""
      ]
     },
     "metadata": {},
     "output_type": "display_data"
    }
   ],
   "source": [
    "class(a)"
   ]
  },
  {
   "cell_type": "code",
   "execution_count": 16,
   "metadata": {
    "collapsed": true
   },
   "outputs": [],
   "source": [
    "n <- 100"
   ]
  },
  {
   "cell_type": "code",
   "execution_count": 17,
   "metadata": {
    "collapsed": true
   },
   "outputs": [],
   "source": [
    "char <- \"ベクトルです \""
   ]
  },
  {
   "cell_type": "code",
   "execution_count": 18,
   "metadata": {
    "collapsed": true
   },
   "outputs": [],
   "source": [
    "n1 <- c(2,3,4)"
   ]
  },
  {
   "cell_type": "code",
   "execution_count": 19,
   "metadata": {
    "collapsed": false
   },
   "outputs": [
    {
     "data": {
      "text/html": [
       "<ol class=list-inline>\n",
       "\t<li>2</li>\n",
       "\t<li>3</li>\n",
       "\t<li>4</li>\n",
       "</ol>\n"
      ],
      "text/latex": [
       "\\begin{enumerate*}\n",
       "\\item 2\n",
       "\\item 3\n",
       "\\item 4\n",
       "\\end{enumerate*}\n"
      ],
      "text/markdown": [
       "1. 2\n",
       "2. 3\n",
       "3. 4\n",
       "\n",
       "\n"
      ],
      "text/plain": [
       "[1] 2 3 4"
      ]
     },
     "metadata": {},
     "output_type": "display_data"
    }
   ],
   "source": [
    "n1"
   ]
  },
  {
   "cell_type": "code",
   "execution_count": 20,
   "metadata": {
    "collapsed": true
   },
   "outputs": [],
   "source": [
    "chr1 <- c(\"おはよう\", \"こんにちは\", \"こんばんは\")"
   ]
  },
  {
   "cell_type": "code",
   "execution_count": 21,
   "metadata": {
    "collapsed": false
   },
   "outputs": [
    {
     "data": {
      "text/html": [
       "<ol class=list-inline>\n",
       "\t<li>'おはよう'</li>\n",
       "\t<li>'こんにちは'</li>\n",
       "\t<li>'こんばんは'</li>\n",
       "</ol>\n"
      ],
      "text/latex": [
       "\\begin{enumerate*}\n",
       "\\item 'おはよう'\n",
       "\\item 'こんにちは'\n",
       "\\item 'こんばんは'\n",
       "\\end{enumerate*}\n"
      ],
      "text/markdown": [
       "1. 'おはよう'\n",
       "2. 'こんにちは'\n",
       "3. 'こんばんは'\n",
       "\n",
       "\n"
      ],
      "text/plain": [
       "[1] \"おはよう\"   \"こんにちは\" \"こんばんは\""
      ]
     },
     "metadata": {},
     "output_type": "display_data"
    }
   ],
   "source": [
    "chr1"
   ]
  },
  {
   "cell_type": "code",
   "execution_count": 22,
   "metadata": {
    "collapsed": true
   },
   "outputs": [],
   "source": [
    "rm(n1)"
   ]
  },
  {
   "cell_type": "code",
   "execution_count": 23,
   "metadata": {
    "collapsed": true
   },
   "outputs": [],
   "source": [
    "rm(chr1)"
   ]
  },
  {
   "cell_type": "code",
   "execution_count": 24,
   "metadata": {
    "collapsed": false
   },
   "outputs": [
    {
     "ename": "ERROR",
     "evalue": "Error in eval(expr, envir, enclos):  オブジェクト 'n1' がありません \n",
     "output_type": "error",
     "traceback": [
      "Error in eval(expr, envir, enclos):  オブジェクト 'n1' がありません \nTraceback:\n"
     ]
    }
   ],
   "source": [
    "n1"
   ]
  },
  {
   "cell_type": "code",
   "execution_count": 25,
   "metadata": {
    "collapsed": false
   },
   "outputs": [
    {
     "ename": "ERROR",
     "evalue": "Error in eval(expr, envir, enclos):  オブジェクト 'chr1' がありません \n",
     "output_type": "error",
     "traceback": [
      "Error in eval(expr, envir, enclos):  オブジェクト 'chr1' がありません \nTraceback:\n"
     ]
    }
   ],
   "source": [
    "chr1"
   ]
  },
  {
   "cell_type": "code",
   "execution_count": 28,
   "metadata": {
    "collapsed": false
   },
   "outputs": [],
   "source": [
    "x <- c(10, 20, 30, 40, 50)"
   ]
  },
  {
   "cell_type": "code",
   "execution_count": 29,
   "metadata": {
    "collapsed": false
   },
   "outputs": [
    {
     "data": {
      "text/html": [
       "5"
      ],
      "text/latex": [
       "5"
      ],
      "text/markdown": [
       "5"
      ],
      "text/plain": [
       "[1] 5"
      ]
     },
     "metadata": {},
     "output_type": "display_data"
    }
   ],
   "source": [
    "length(x)"
   ]
  },
  {
   "cell_type": "code",
   "execution_count": 30,
   "metadata": {
    "collapsed": true
   },
   "outputs": [],
   "source": [
    "a <- 1"
   ]
  },
  {
   "cell_type": "code",
   "execution_count": 31,
   "metadata": {
    "collapsed": false
   },
   "outputs": [
    {
     "data": {
      "text/html": [
       "1"
      ],
      "text/latex": [
       "1"
      ],
      "text/markdown": [
       "1"
      ],
      "text/plain": [
       "[1] 1"
      ]
     },
     "metadata": {},
     "output_type": "display_data"
    }
   ],
   "source": [
    "a[1]"
   ]
  },
  {
   "cell_type": "code",
   "execution_count": 32,
   "metadata": {
    "collapsed": false
   },
   "outputs": [
    {
     "data": {
      "text/html": [
       "&lt;NA&gt;"
      ],
      "text/latex": [
       "<NA>"
      ],
      "text/markdown": [
       "&lt;NA&gt;"
      ],
      "text/plain": [
       "[1] NA"
      ]
     },
     "metadata": {},
     "output_type": "display_data"
    }
   ],
   "source": [
    "a[2]"
   ]
  },
  {
   "cell_type": "code",
   "execution_count": 33,
   "metadata": {
    "collapsed": false
   },
   "outputs": [
    {
     "data": {
      "text/html": [
       "20"
      ],
      "text/latex": [
       "20"
      ],
      "text/markdown": [
       "20"
      ],
      "text/plain": [
       "[1] 20"
      ]
     },
     "metadata": {},
     "output_type": "display_data"
    }
   ],
   "source": [
    "x[2]"
   ]
  },
  {
   "cell_type": "code",
   "execution_count": 34,
   "metadata": {
    "collapsed": false
   },
   "outputs": [
    {
     "data": {
      "text/html": [
       "<ol class=list-inline>\n",
       "\t<li>20</li>\n",
       "\t<li>30</li>\n",
       "\t<li>40</li>\n",
       "</ol>\n"
      ],
      "text/latex": [
       "\\begin{enumerate*}\n",
       "\\item 20\n",
       "\\item 30\n",
       "\\item 40\n",
       "\\end{enumerate*}\n"
      ],
      "text/markdown": [
       "1. 20\n",
       "2. 30\n",
       "3. 40\n",
       "\n",
       "\n"
      ],
      "text/plain": [
       "[1] 20 30 40"
      ]
     },
     "metadata": {},
     "output_type": "display_data"
    }
   ],
   "source": [
    "x[2:4]"
   ]
  },
  {
   "cell_type": "code",
   "execution_count": 38,
   "metadata": {
    "collapsed": false
   },
   "outputs": [
    {
     "data": {
      "text/html": [
       "<ol class=list-inline>\n",
       "\t<li>10</li>\n",
       "\t<li>30</li>\n",
       "\t<li>50</li>\n",
       "</ol>\n"
      ],
      "text/latex": [
       "\\begin{enumerate*}\n",
       "\\item 10\n",
       "\\item 30\n",
       "\\item 50\n",
       "\\end{enumerate*}\n"
      ],
      "text/markdown": [
       "1. 10\n",
       "2. 30\n",
       "3. 50\n",
       "\n",
       "\n"
      ],
      "text/plain": [
       "[1] 10 30 50"
      ]
     },
     "metadata": {},
     "output_type": "display_data"
    }
   ],
   "source": [
    "x[c(1,3,5)]"
   ]
  },
  {
   "cell_type": "code",
   "execution_count": 39,
   "metadata": {
    "collapsed": false
   },
   "outputs": [
    {
     "data": {
      "text/html": [
       "<ol class=list-inline>\n",
       "\t<li>20</li>\n",
       "\t<li>30</li>\n",
       "\t<li>40</li>\n",
       "\t<li>50</li>\n",
       "</ol>\n"
      ],
      "text/latex": [
       "\\begin{enumerate*}\n",
       "\\item 20\n",
       "\\item 30\n",
       "\\item 40\n",
       "\\item 50\n",
       "\\end{enumerate*}\n"
      ],
      "text/markdown": [
       "1. 20\n",
       "2. 30\n",
       "3. 40\n",
       "4. 50\n",
       "\n",
       "\n"
      ],
      "text/plain": [
       "[1] 20 30 40 50"
      ]
     },
     "metadata": {},
     "output_type": "display_data"
    }
   ],
   "source": [
    "x[-1]"
   ]
  },
  {
   "cell_type": "code",
   "execution_count": 42,
   "metadata": {
    "collapsed": false
   },
   "outputs": [
    {
     "data": {
      "text/html": [
       "<ol class=list-inline>\n",
       "\t<li>20</li>\n",
       "\t<li>40</li>\n",
       "</ol>\n"
      ],
      "text/latex": [
       "\\begin{enumerate*}\n",
       "\\item 20\n",
       "\\item 40\n",
       "\\end{enumerate*}\n"
      ],
      "text/markdown": [
       "1. 20\n",
       "2. 40\n",
       "\n",
       "\n"
      ],
      "text/plain": [
       "[1] 20 40"
      ]
     },
     "metadata": {},
     "output_type": "display_data"
    }
   ],
   "source": [
    "x[c(-1,-3,-5)]"
   ]
  },
  {
   "cell_type": "code",
   "execution_count": 43,
   "metadata": {
    "collapsed": false
   },
   "outputs": [
    {
     "data": {
      "text/html": [
       "<ol class=list-inline>\n",
       "\t<li>20</li>\n",
       "\t<li>30</li>\n",
       "\t<li>40</li>\n",
       "\t<li>50</li>\n",
       "</ol>\n"
      ],
      "text/latex": [
       "\\begin{enumerate*}\n",
       "\\item 20\n",
       "\\item 30\n",
       "\\item 40\n",
       "\\item 50\n",
       "\\end{enumerate*}\n"
      ],
      "text/markdown": [
       "1. 20\n",
       "2. 30\n",
       "3. 40\n",
       "4. 50\n",
       "\n",
       "\n"
      ],
      "text/plain": [
       "[1] 20 30 40 50"
      ]
     },
     "metadata": {},
     "output_type": "display_data"
    }
   ],
   "source": [
    "x[10 < x]"
   ]
  },
  {
   "cell_type": "code",
   "execution_count": 44,
   "metadata": {
    "collapsed": false
   },
   "outputs": [
    {
     "data": {
      "text/html": [
       "<ol class=list-inline>\n",
       "\t<li>10</li>\n",
       "\t<li>20</li>\n",
       "</ol>\n"
      ],
      "text/latex": [
       "\\begin{enumerate*}\n",
       "\\item 10\n",
       "\\item 20\n",
       "\\end{enumerate*}\n"
      ],
      "text/markdown": [
       "1. 10\n",
       "2. 20\n",
       "\n",
       "\n"
      ],
      "text/plain": [
       "[1] 10 20"
      ]
     },
     "metadata": {},
     "output_type": "display_data"
    }
   ],
   "source": [
    "x[30 > x]"
   ]
  },
  {
   "cell_type": "code",
   "execution_count": 45,
   "metadata": {
    "collapsed": false
   },
   "outputs": [
    {
     "data": {
      "text/html": [
       "<ol class=list-inline>\n",
       "\t<li>20</li>\n",
       "\t<li>30</li>\n",
       "</ol>\n"
      ],
      "text/latex": [
       "\\begin{enumerate*}\n",
       "\\item 20\n",
       "\\item 30\n",
       "\\end{enumerate*}\n"
      ],
      "text/markdown": [
       "1. 20\n",
       "2. 30\n",
       "\n",
       "\n"
      ],
      "text/plain": [
       "[1] 20 30"
      ]
     },
     "metadata": {},
     "output_type": "display_data"
    }
   ],
   "source": [
    "x[10 < x & x < 40]"
   ]
  },
  {
   "cell_type": "code",
   "execution_count": 46,
   "metadata": {
    "collapsed": true
   },
   "outputs": [],
   "source": [
    "x[5] <- 0"
   ]
  },
  {
   "cell_type": "code",
   "execution_count": 47,
   "metadata": {
    "collapsed": false
   },
   "outputs": [
    {
     "data": {
      "text/html": [
       "<ol class=list-inline>\n",
       "\t<li>10</li>\n",
       "\t<li>20</li>\n",
       "\t<li>30</li>\n",
       "\t<li>40</li>\n",
       "\t<li>0</li>\n",
       "</ol>\n"
      ],
      "text/latex": [
       "\\begin{enumerate*}\n",
       "\\item 10\n",
       "\\item 20\n",
       "\\item 30\n",
       "\\item 40\n",
       "\\item 0\n",
       "\\end{enumerate*}\n"
      ],
      "text/markdown": [
       "1. 10\n",
       "2. 20\n",
       "3. 30\n",
       "4. 40\n",
       "5. 0\n",
       "\n",
       "\n"
      ],
      "text/plain": [
       "[1] 10 20 30 40  0"
      ]
     },
     "metadata": {},
     "output_type": "display_data"
    }
   ],
   "source": [
    "x"
   ]
  },
  {
   "cell_type": "code",
   "execution_count": 48,
   "metadata": {
    "collapsed": true
   },
   "outputs": [],
   "source": [
    "x[5] <- \"hello\""
   ]
  },
  {
   "cell_type": "code",
   "execution_count": 50,
   "metadata": {
    "collapsed": false
   },
   "outputs": [
    {
     "data": {
      "text/html": [
       "<ol class=list-inline>\n",
       "\t<li>'10'</li>\n",
       "\t<li>'20'</li>\n",
       "\t<li>'30'</li>\n",
       "\t<li>'40'</li>\n",
       "\t<li>'hello'</li>\n",
       "</ol>\n"
      ],
      "text/latex": [
       "\\begin{enumerate*}\n",
       "\\item '10'\n",
       "\\item '20'\n",
       "\\item '30'\n",
       "\\item '40'\n",
       "\\item 'hello'\n",
       "\\end{enumerate*}\n"
      ],
      "text/markdown": [
       "1. '10'\n",
       "2. '20'\n",
       "3. '30'\n",
       "4. '40'\n",
       "5. 'hello'\n",
       "\n",
       "\n"
      ],
      "text/plain": [
       "[1] \"10\"    \"20\"    \"30\"    \"40\"    \"hello\""
      ]
     },
     "metadata": {},
     "output_type": "display_data"
    }
   ],
   "source": [
    "x"
   ]
  },
  {
   "cell_type": "code",
   "execution_count": 52,
   "metadata": {
    "collapsed": true
   },
   "outputs": [],
   "source": [
    "x <- c(1,2,3)\n",
    "y <- c(4,5,6)\n",
    "z <- c(7,8,9)"
   ]
  },
  {
   "cell_type": "code",
   "execution_count": 54,
   "metadata": {
    "collapsed": false
   },
   "outputs": [],
   "source": [
    "a <- c(x, y, z)"
   ]
  },
  {
   "cell_type": "code",
   "execution_count": 55,
   "metadata": {
    "collapsed": false
   },
   "outputs": [
    {
     "data": {
      "text/html": [
       "<ol class=list-inline>\n",
       "\t<li>1</li>\n",
       "\t<li>2</li>\n",
       "\t<li>3</li>\n",
       "\t<li>4</li>\n",
       "\t<li>5</li>\n",
       "\t<li>6</li>\n",
       "\t<li>7</li>\n",
       "\t<li>8</li>\n",
       "\t<li>9</li>\n",
       "</ol>\n"
      ],
      "text/latex": [
       "\\begin{enumerate*}\n",
       "\\item 1\n",
       "\\item 2\n",
       "\\item 3\n",
       "\\item 4\n",
       "\\item 5\n",
       "\\item 6\n",
       "\\item 7\n",
       "\\item 8\n",
       "\\item 9\n",
       "\\end{enumerate*}\n"
      ],
      "text/markdown": [
       "1. 1\n",
       "2. 2\n",
       "3. 3\n",
       "4. 4\n",
       "5. 5\n",
       "6. 6\n",
       "7. 7\n",
       "8. 8\n",
       "9. 9\n",
       "\n",
       "\n"
      ],
      "text/plain": [
       "[1] 1 2 3 4 5 6 7 8 9"
      ]
     },
     "metadata": {},
     "output_type": "display_data"
    }
   ],
   "source": [
    "a"
   ]
  },
  {
   "cell_type": "code",
   "execution_count": 57,
   "metadata": {
    "collapsed": false
   },
   "outputs": [],
   "source": [
    "b <- append(x, y)"
   ]
  },
  {
   "cell_type": "code",
   "execution_count": 58,
   "metadata": {
    "collapsed": false
   },
   "outputs": [
    {
     "data": {
      "text/html": [
       "<ol class=list-inline>\n",
       "\t<li>1</li>\n",
       "\t<li>2</li>\n",
       "\t<li>3</li>\n",
       "\t<li>4</li>\n",
       "\t<li>5</li>\n",
       "\t<li>6</li>\n",
       "</ol>\n"
      ],
      "text/latex": [
       "\\begin{enumerate*}\n",
       "\\item 1\n",
       "\\item 2\n",
       "\\item 3\n",
       "\\item 4\n",
       "\\item 5\n",
       "\\item 6\n",
       "\\end{enumerate*}\n"
      ],
      "text/markdown": [
       "1. 1\n",
       "2. 2\n",
       "3. 3\n",
       "4. 4\n",
       "5. 5\n",
       "6. 6\n",
       "\n",
       "\n"
      ],
      "text/plain": [
       "[1] 1 2 3 4 5 6"
      ]
     },
     "metadata": {},
     "output_type": "display_data"
    }
   ],
   "source": [
    "b"
   ]
  },
  {
   "cell_type": "code",
   "execution_count": 59,
   "metadata": {
    "collapsed": true
   },
   "outputs": [],
   "source": [
    "c <- append(b, y, after=3)"
   ]
  },
  {
   "cell_type": "code",
   "execution_count": 60,
   "metadata": {
    "collapsed": false
   },
   "outputs": [
    {
     "data": {
      "text/html": [
       "<ol class=list-inline>\n",
       "\t<li>1</li>\n",
       "\t<li>2</li>\n",
       "\t<li>3</li>\n",
       "\t<li>4</li>\n",
       "\t<li>5</li>\n",
       "\t<li>6</li>\n",
       "\t<li>4</li>\n",
       "\t<li>5</li>\n",
       "\t<li>6</li>\n",
       "</ol>\n"
      ],
      "text/latex": [
       "\\begin{enumerate*}\n",
       "\\item 1\n",
       "\\item 2\n",
       "\\item 3\n",
       "\\item 4\n",
       "\\item 5\n",
       "\\item 6\n",
       "\\item 4\n",
       "\\item 5\n",
       "\\item 6\n",
       "\\end{enumerate*}\n"
      ],
      "text/markdown": [
       "1. 1\n",
       "2. 2\n",
       "3. 3\n",
       "4. 4\n",
       "5. 5\n",
       "6. 6\n",
       "7. 4\n",
       "8. 5\n",
       "9. 6\n",
       "\n",
       "\n"
      ],
      "text/plain": [
       "[1] 1 2 3 4 5 6 4 5 6"
      ]
     },
     "metadata": {},
     "output_type": "display_data"
    }
   ],
   "source": [
    "c"
   ]
  },
  {
   "cell_type": "code",
   "execution_count": 61,
   "metadata": {
    "collapsed": true
   },
   "outputs": [],
   "source": [
    "num <- c(1,2,3,4,5,6)"
   ]
  },
  {
   "cell_type": "code",
   "execution_count": 62,
   "metadata": {
    "collapsed": true
   },
   "outputs": [],
   "source": [
    "names(num) <- c(\"one\", \"two\", \"trhee\", \"four\", \"five\", \"six\")"
   ]
  },
  {
   "cell_type": "code",
   "execution_count": 63,
   "metadata": {
    "collapsed": false
   },
   "outputs": [
    {
     "data": {
      "text/html": [
       "<dl class=dl-horizontal>\n",
       "\t<dt>one</dt>\n",
       "\t\t<dd>1</dd>\n",
       "\t<dt>two</dt>\n",
       "\t\t<dd>2</dd>\n",
       "\t<dt>trhee</dt>\n",
       "\t\t<dd>3</dd>\n",
       "\t<dt>four</dt>\n",
       "\t\t<dd>4</dd>\n",
       "\t<dt>five</dt>\n",
       "\t\t<dd>5</dd>\n",
       "\t<dt>six</dt>\n",
       "\t\t<dd>6</dd>\n",
       "</dl>\n"
      ],
      "text/latex": [
       "\\begin{description*}\n",
       "\\item[one] 1\n",
       "\\item[two] 2\n",
       "\\item[trhee] 3\n",
       "\\item[four] 4\n",
       "\\item[five] 5\n",
       "\\item[six] 6\n",
       "\\end{description*}\n"
      ],
      "text/markdown": [
       "one\n",
       ":   1two\n",
       ":   2trhee\n",
       ":   3four\n",
       ":   4five\n",
       ":   5six\n",
       ":   6\n",
       "\n"
      ],
      "text/plain": [
       "  one   two trhee  four  five   six \n",
       "    1     2     3     4     5     6 "
      ]
     },
     "metadata": {},
     "output_type": "display_data"
    }
   ],
   "source": [
    "num"
   ]
  },
  {
   "cell_type": "code",
   "execution_count": 64,
   "metadata": {
    "collapsed": false
   },
   "outputs": [
    {
     "data": {
      "text/html": [
       "<strong>one:</strong> 1"
      ],
      "text/latex": [
       "\\textbf{one:} 1"
      ],
      "text/markdown": [
       "**one:** 1"
      ],
      "text/plain": [
       "one \n",
       "  1 "
      ]
     },
     "metadata": {},
     "output_type": "display_data"
    }
   ],
   "source": [
    "num[\"one\"]"
   ]
  },
  {
   "cell_type": "code",
   "execution_count": 65,
   "metadata": {
    "collapsed": true
   },
   "outputs": [],
   "source": [
    "names(num) <- c(\"1\", \"2\", \"3\", \"4\", \"5\", \"6\")"
   ]
  },
  {
   "cell_type": "code",
   "execution_count": 66,
   "metadata": {
    "collapsed": false
   },
   "outputs": [
    {
     "data": {
      "text/html": [
       "<dl class=dl-horizontal>\n",
       "\t<dt>1</dt>\n",
       "\t\t<dd>1</dd>\n",
       "\t<dt>2</dt>\n",
       "\t\t<dd>2</dd>\n",
       "\t<dt>3</dt>\n",
       "\t\t<dd>3</dd>\n",
       "\t<dt>4</dt>\n",
       "\t\t<dd>4</dd>\n",
       "\t<dt>5</dt>\n",
       "\t\t<dd>5</dd>\n",
       "\t<dt>6</dt>\n",
       "\t\t<dd>6</dd>\n",
       "</dl>\n"
      ],
      "text/latex": [
       "\\begin{description*}\n",
       "\\item[1] 1\n",
       "\\item[2] 2\n",
       "\\item[3] 3\n",
       "\\item[4] 4\n",
       "\\item[5] 5\n",
       "\\item[6] 6\n",
       "\\end{description*}\n"
      ],
      "text/markdown": [
       "1\n",
       ":   12\n",
       ":   23\n",
       ":   34\n",
       ":   45\n",
       ":   56\n",
       ":   6\n",
       "\n"
      ],
      "text/plain": [
       "1 2 3 4 5 6 \n",
       "1 2 3 4 5 6 "
      ]
     },
     "metadata": {},
     "output_type": "display_data"
    }
   ],
   "source": [
    "num"
   ]
  },
  {
   "cell_type": "code",
   "execution_count": 67,
   "metadata": {
    "collapsed": true
   },
   "outputs": [],
   "source": [
    "names(num) <- NULL"
   ]
  },
  {
   "cell_type": "code",
   "execution_count": 68,
   "metadata": {
    "collapsed": false
   },
   "outputs": [
    {
     "data": {
      "text/html": [
       "<ol class=list-inline>\n",
       "\t<li>1</li>\n",
       "\t<li>2</li>\n",
       "\t<li>3</li>\n",
       "\t<li>4</li>\n",
       "\t<li>5</li>\n",
       "\t<li>6</li>\n",
       "</ol>\n"
      ],
      "text/latex": [
       "\\begin{enumerate*}\n",
       "\\item 1\n",
       "\\item 2\n",
       "\\item 3\n",
       "\\item 4\n",
       "\\item 5\n",
       "\\item 6\n",
       "\\end{enumerate*}\n"
      ],
      "text/markdown": [
       "1. 1\n",
       "2. 2\n",
       "3. 3\n",
       "4. 4\n",
       "5. 5\n",
       "6. 6\n",
       "\n",
       "\n"
      ],
      "text/plain": [
       "[1] 1 2 3 4 5 6"
      ]
     },
     "metadata": {},
     "output_type": "display_data"
    }
   ],
   "source": [
    "num"
   ]
  },
  {
   "cell_type": "code",
   "execution_count": 69,
   "metadata": {
    "collapsed": true
   },
   "outputs": [],
   "source": [
    "z <- x + y"
   ]
  },
  {
   "cell_type": "code",
   "execution_count": 70,
   "metadata": {
    "collapsed": false
   },
   "outputs": [
    {
     "data": {
      "text/html": [
       "<ol class=list-inline>\n",
       "\t<li>5</li>\n",
       "\t<li>7</li>\n",
       "\t<li>9</li>\n",
       "</ol>\n"
      ],
      "text/latex": [
       "\\begin{enumerate*}\n",
       "\\item 5\n",
       "\\item 7\n",
       "\\item 9\n",
       "\\end{enumerate*}\n"
      ],
      "text/markdown": [
       "1. 5\n",
       "2. 7\n",
       "3. 9\n",
       "\n",
       "\n"
      ],
      "text/plain": [
       "[1] 5 7 9"
      ]
     },
     "metadata": {},
     "output_type": "display_data"
    }
   ],
   "source": [
    "z"
   ]
  },
  {
   "cell_type": "code",
   "execution_count": 71,
   "metadata": {
    "collapsed": false
   },
   "outputs": [
    {
     "data": {
      "text/html": [
       "<ol class=list-inline>\n",
       "\t<li>8</li>\n",
       "\t<li>108</li>\n",
       "\t<li>16</li>\n",
       "\t<li>216</li>\n",
       "</ol>\n"
      ],
      "text/latex": [
       "\\begin{enumerate*}\n",
       "\\item 8\n",
       "\\item 108\n",
       "\\item 16\n",
       "\\item 216\n",
       "\\end{enumerate*}\n"
      ],
      "text/markdown": [
       "1. 8\n",
       "2. 108\n",
       "3. 16\n",
       "4. 216\n",
       "\n",
       "\n"
      ],
      "text/plain": [
       "[1]   8 108  16 216"
      ]
     },
     "metadata": {},
     "output_type": "display_data"
    }
   ],
   "source": [
    "x <- c(100, 100, 200, 200)\n",
    "y <- c(0.08, 1.08)\n",
    "x * y"
   ]
  },
  {
   "cell_type": "code",
   "execution_count": 72,
   "metadata": {
    "collapsed": true
   },
   "outputs": [],
   "source": [
    "price <- c(1000, 2000, 3000)\n",
    "tax_in <- price * 1.08"
   ]
  },
  {
   "cell_type": "code",
   "execution_count": 73,
   "metadata": {
    "collapsed": false
   },
   "outputs": [
    {
     "data": {
      "text/html": [
       "<ol class=list-inline>\n",
       "\t<li>1080</li>\n",
       "\t<li>2160</li>\n",
       "\t<li>3240</li>\n",
       "</ol>\n"
      ],
      "text/latex": [
       "\\begin{enumerate*}\n",
       "\\item 1080\n",
       "\\item 2160\n",
       "\\item 3240\n",
       "\\end{enumerate*}\n"
      ],
      "text/markdown": [
       "1. 1080\n",
       "2. 2160\n",
       "3. 3240\n",
       "\n",
       "\n"
      ],
      "text/plain": [
       "[1] 1080 2160 3240"
      ]
     },
     "metadata": {},
     "output_type": "display_data"
    }
   ],
   "source": [
    "tax_in"
   ]
  },
  {
   "cell_type": "code",
   "execution_count": 74,
   "metadata": {
    "collapsed": true
   },
   "outputs": [],
   "source": [
    "data1 <- c(\"1.23\", \"20.34\", \"300.45\")"
   ]
  },
  {
   "cell_type": "code",
   "execution_count": 75,
   "metadata": {
    "collapsed": false
   },
   "outputs": [
    {
     "data": {
      "text/html": [
       "'character'"
      ],
      "text/latex": [
       "'character'"
      ],
      "text/markdown": [
       "'character'"
      ],
      "text/plain": [
       "[1] \"character\""
      ]
     },
     "metadata": {},
     "output_type": "display_data"
    }
   ],
   "source": [
    "mode(data1)"
   ]
  },
  {
   "cell_type": "code",
   "execution_count": 76,
   "metadata": {
    "collapsed": true
   },
   "outputs": [],
   "source": [
    "conv1 <- as.numeric(data1)"
   ]
  },
  {
   "cell_type": "code",
   "execution_count": 77,
   "metadata": {
    "collapsed": false
   },
   "outputs": [
    {
     "data": {
      "text/html": [
       "'double'"
      ],
      "text/latex": [
       "'double'"
      ],
      "text/markdown": [
       "'double'"
      ],
      "text/plain": [
       "[1] \"double\""
      ]
     },
     "metadata": {},
     "output_type": "display_data"
    }
   ],
   "source": [
    "storage.mode(conv1)"
   ]
  },
  {
   "cell_type": "code",
   "execution_count": 78,
   "metadata": {
    "collapsed": false
   },
   "outputs": [
    {
     "data": {
      "text/html": [
       "<ol class=list-inline>\n",
       "\t<li>1.23</li>\n",
       "\t<li>20.34</li>\n",
       "\t<li>300.45</li>\n",
       "</ol>\n"
      ],
      "text/latex": [
       "\\begin{enumerate*}\n",
       "\\item 1.23\n",
       "\\item 20.34\n",
       "\\item 300.45\n",
       "\\end{enumerate*}\n"
      ],
      "text/markdown": [
       "1. 1.23\n",
       "2. 20.34\n",
       "3. 300.45\n",
       "\n",
       "\n"
      ],
      "text/plain": [
       "[1]   1.23  20.34 300.45"
      ]
     },
     "metadata": {},
     "output_type": "display_data"
    }
   ],
   "source": [
    "conv1"
   ]
  },
  {
   "cell_type": "code",
   "execution_count": 79,
   "metadata": {
    "collapsed": true
   },
   "outputs": [],
   "source": [
    "conv1 <- as.integer(conv1)"
   ]
  },
  {
   "cell_type": "code",
   "execution_count": 80,
   "metadata": {
    "collapsed": false
   },
   "outputs": [
    {
     "data": {
      "text/html": [
       "'numeric'"
      ],
      "text/latex": [
       "'numeric'"
      ],
      "text/markdown": [
       "'numeric'"
      ],
      "text/plain": [
       "[1] \"numeric\""
      ]
     },
     "metadata": {},
     "output_type": "display_data"
    }
   ],
   "source": [
    "mode(conv1)"
   ]
  },
  {
   "cell_type": "code",
   "execution_count": 81,
   "metadata": {
    "collapsed": false
   },
   "outputs": [
    {
     "data": {
      "text/html": [
       "'integer'"
      ],
      "text/latex": [
       "'integer'"
      ],
      "text/markdown": [
       "'integer'"
      ],
      "text/plain": [
       "[1] \"integer\""
      ]
     },
     "metadata": {},
     "output_type": "display_data"
    }
   ],
   "source": [
    "storage.mode(conv1)"
   ]
  },
  {
   "cell_type": "code",
   "execution_count": 82,
   "metadata": {
    "collapsed": false
   },
   "outputs": [
    {
     "data": {
      "text/html": [
       "<ol class=list-inline>\n",
       "\t<li>1</li>\n",
       "\t<li>20</li>\n",
       "\t<li>300</li>\n",
       "</ol>\n"
      ],
      "text/latex": [
       "\\begin{enumerate*}\n",
       "\\item 1\n",
       "\\item 20\n",
       "\\item 300\n",
       "\\end{enumerate*}\n"
      ],
      "text/markdown": [
       "1. 1\n",
       "2. 20\n",
       "3. 300\n",
       "\n",
       "\n"
      ],
      "text/plain": [
       "[1]   1  20 300"
      ]
     },
     "metadata": {},
     "output_type": "display_data"
    }
   ],
   "source": [
    "conv1"
   ]
  },
  {
   "cell_type": "code",
   "execution_count": 83,
   "metadata": {
    "collapsed": true
   },
   "outputs": [],
   "source": [
    "# 顧客id\n",
    "id   <- c(1:3)\n",
    "# 名前\n",
    "name <- list(\"秀和太郎\",\n",
    "             \"築地花子\",\n",
    "             \"宗田解析\")\n",
    "# 住所\n",
    "add  <- list(\"中央区築地100-1\",\n",
    "             \"中央区築地本町200\",\n",
    "             \"中央区日本橋99\")\n",
    "\n",
    "# リストを作成\n",
    "add_book <- list(\"顧客リスト\", id, name, add)"
   ]
  },
  {
   "cell_type": "code",
   "execution_count": 84,
   "metadata": {
    "collapsed": false
   },
   "outputs": [
    {
     "data": {
      "text/html": [
       "<ol>\n",
       "\t<li>'顧客リスト'</li>\n",
       "\t<li><ol class=list-inline>\n",
       "\t<li>1</li>\n",
       "\t<li>2</li>\n",
       "\t<li>3</li>\n",
       "</ol>\n",
       "</li>\n",
       "\t<li><ol>\n",
       "\t<li>'秀和太郎'</li>\n",
       "\t<li>'築地花子'</li>\n",
       "\t<li>'宗田解析'</li>\n",
       "</ol>\n",
       "</li>\n",
       "\t<li><ol>\n",
       "\t<li>'中央区築地100-1'</li>\n",
       "\t<li>'中央区築地本町200'</li>\n",
       "\t<li>'中央区日本橋99'</li>\n",
       "</ol>\n",
       "</li>\n",
       "</ol>\n"
      ],
      "text/latex": [
       "\\begin{enumerate}\n",
       "\\item '顧客リスト'\n",
       "\\item \\begin{enumerate*}\n",
       "\\item 1\n",
       "\\item 2\n",
       "\\item 3\n",
       "\\end{enumerate*}\n",
       "\n",
       "\\item \\begin{enumerate}\n",
       "\\item '秀和太郎'\n",
       "\\item '築地花子'\n",
       "\\item '宗田解析'\n",
       "\\end{enumerate}\n",
       "\n",
       "\\item \\begin{enumerate}\n",
       "\\item '中央区築地100-1'\n",
       "\\item '中央区築地本町200'\n",
       "\\item '中央区日本橋99'\n",
       "\\end{enumerate}\n",
       "\n",
       "\\end{enumerate}\n"
      ],
      "text/markdown": [
       "1. '顧客リスト'\n",
       "2. 1. 1\n",
       "2. 2\n",
       "3. 3\n",
       "\n",
       "\n",
       "\n",
       "3. 1. '秀和太郎'\n",
       "2. '築地花子'\n",
       "3. '宗田解析'\n",
       "\n",
       "\n",
       "\n",
       "4. 1. '中央区築地100-1'\n",
       "2. '中央区築地本町200'\n",
       "3. '中央区日本橋99'\n",
       "\n",
       "\n",
       "\n",
       "\n",
       "\n"
      ],
      "text/plain": [
       "[[1]]\n",
       "[1] \"顧客リスト\"\n",
       "\n",
       "[[2]]\n",
       "[1] 1 2 3\n",
       "\n",
       "[[3]]\n",
       "[[3]][[1]]\n",
       "[1] \"秀和太郎\"\n",
       "\n",
       "[[3]][[2]]\n",
       "[1] \"築地花子\"\n",
       "\n",
       "[[3]][[3]]\n",
       "[1] \"宗田解析\"\n",
       "\n",
       "\n",
       "[[4]]\n",
       "[[4]][[1]]\n",
       "[1] \"中央区築地100-1\"\n",
       "\n",
       "[[4]][[2]]\n",
       "[1] \"中央区築地本町200\"\n",
       "\n",
       "[[4]][[3]]\n",
       "[1] \"中央区日本橋99\"\n",
       "\n"
      ]
     },
     "metadata": {},
     "output_type": "display_data"
    }
   ],
   "source": [
    "add_book"
   ]
  },
  {
   "cell_type": "code",
   "execution_count": 85,
   "metadata": {
    "collapsed": true
   },
   "outputs": [],
   "source": [
    "list1 <- add_book[[1]] # リストの第1要素を取得\n",
    "list2 <- add_book[[2]] # リストの第2要素を取得\n",
    "list3 <- add_book[[3]] # リストの第3要素を取得\n",
    "list4 <- add_book[[4]] # リストの第4要素を取得"
   ]
  },
  {
   "cell_type": "code",
   "execution_count": 86,
   "metadata": {
    "collapsed": false
   },
   "outputs": [
    {
     "data": {
      "text/html": [
       "'顧客リスト'"
      ],
      "text/latex": [
       "'顧客リスト'"
      ],
      "text/markdown": [
       "'顧客リスト'"
      ],
      "text/plain": [
       "[1] \"顧客リスト\""
      ]
     },
     "metadata": {},
     "output_type": "display_data"
    }
   ],
   "source": [
    "list1"
   ]
  },
  {
   "cell_type": "code",
   "execution_count": 87,
   "metadata": {
    "collapsed": false
   },
   "outputs": [
    {
     "data": {
      "text/html": [
       "<ol class=list-inline>\n",
       "\t<li>1</li>\n",
       "\t<li>2</li>\n",
       "\t<li>3</li>\n",
       "</ol>\n"
      ],
      "text/latex": [
       "\\begin{enumerate*}\n",
       "\\item 1\n",
       "\\item 2\n",
       "\\item 3\n",
       "\\end{enumerate*}\n"
      ],
      "text/markdown": [
       "1. 1\n",
       "2. 2\n",
       "3. 3\n",
       "\n",
       "\n"
      ],
      "text/plain": [
       "[1] 1 2 3"
      ]
     },
     "metadata": {},
     "output_type": "display_data"
    }
   ],
   "source": [
    "list2"
   ]
  },
  {
   "cell_type": "code",
   "execution_count": 88,
   "metadata": {
    "collapsed": false
   },
   "outputs": [
    {
     "data": {
      "text/html": [
       "<ol>\n",
       "\t<li>'秀和太郎'</li>\n",
       "\t<li>'築地花子'</li>\n",
       "\t<li>'宗田解析'</li>\n",
       "</ol>\n"
      ],
      "text/latex": [
       "\\begin{enumerate}\n",
       "\\item '秀和太郎'\n",
       "\\item '築地花子'\n",
       "\\item '宗田解析'\n",
       "\\end{enumerate}\n"
      ],
      "text/markdown": [
       "1. '秀和太郎'\n",
       "2. '築地花子'\n",
       "3. '宗田解析'\n",
       "\n",
       "\n"
      ],
      "text/plain": [
       "[[1]]\n",
       "[1] \"秀和太郎\"\n",
       "\n",
       "[[2]]\n",
       "[1] \"築地花子\"\n",
       "\n",
       "[[3]]\n",
       "[1] \"宗田解析\"\n"
      ]
     },
     "metadata": {},
     "output_type": "display_data"
    }
   ],
   "source": [
    "list3"
   ]
  },
  {
   "cell_type": "code",
   "execution_count": 89,
   "metadata": {
    "collapsed": false
   },
   "outputs": [
    {
     "data": {
      "text/html": [
       "<ol>\n",
       "\t<li>'中央区築地100-1'</li>\n",
       "\t<li>'中央区築地本町200'</li>\n",
       "\t<li>'中央区日本橋99'</li>\n",
       "</ol>\n"
      ],
      "text/latex": [
       "\\begin{enumerate}\n",
       "\\item '中央区築地100-1'\n",
       "\\item '中央区築地本町200'\n",
       "\\item '中央区日本橋99'\n",
       "\\end{enumerate}\n"
      ],
      "text/markdown": [
       "1. '中央区築地100-1'\n",
       "2. '中央区築地本町200'\n",
       "3. '中央区日本橋99'\n",
       "\n",
       "\n"
      ],
      "text/plain": [
       "[[1]]\n",
       "[1] \"中央区築地100-1\"\n",
       "\n",
       "[[2]]\n",
       "[1] \"中央区築地本町200\"\n",
       "\n",
       "[[3]]\n",
       "[1] \"中央区日本橋99\"\n"
      ]
     },
     "metadata": {},
     "output_type": "display_data"
    }
   ],
   "source": [
    "list4"
   ]
  },
  {
   "cell_type": "code",
   "execution_count": 90,
   "metadata": {
    "collapsed": true
   },
   "outputs": [],
   "source": [
    "cst1_id   <- add_book[[2]][[1]] # 一人目のid\n",
    "cst1_name <- add_book[[3]][[1]] # 一人目の名前\n",
    "cst1_add  <- add_book[[4]][[1]] # 一人目の住所"
   ]
  },
  {
   "cell_type": "code",
   "execution_count": 91,
   "metadata": {
    "collapsed": false
   },
   "outputs": [
    {
     "data": {
      "text/html": [
       "1"
      ],
      "text/latex": [
       "1"
      ],
      "text/markdown": [
       "1"
      ],
      "text/plain": [
       "[1] 1"
      ]
     },
     "metadata": {},
     "output_type": "display_data"
    }
   ],
   "source": [
    "cst1_id"
   ]
  },
  {
   "cell_type": "code",
   "execution_count": 92,
   "metadata": {
    "collapsed": false
   },
   "outputs": [
    {
     "data": {
      "text/html": [
       "'秀和太郎'"
      ],
      "text/latex": [
       "'秀和太郎'"
      ],
      "text/markdown": [
       "'秀和太郎'"
      ],
      "text/plain": [
       "[1] \"秀和太郎\""
      ]
     },
     "metadata": {},
     "output_type": "display_data"
    }
   ],
   "source": [
    "cst1_name"
   ]
  },
  {
   "cell_type": "code",
   "execution_count": 93,
   "metadata": {
    "collapsed": false
   },
   "outputs": [
    {
     "data": {
      "text/html": [
       "'中央区築地100-1'"
      ],
      "text/latex": [
       "'中央区築地100-1'"
      ],
      "text/markdown": [
       "'中央区築地100-1'"
      ],
      "text/plain": [
       "[1] \"中央区築地100-1\""
      ]
     },
     "metadata": {},
     "output_type": "display_data"
    }
   ],
   "source": [
    "cst1_add"
   ]
  },
  {
   "cell_type": "code",
   "execution_count": 94,
   "metadata": {
    "collapsed": true
   },
   "outputs": [],
   "source": [
    "var1  <- add_book[c(1,2)]       # リストの第1、第2要素をリストとして取得\n",
    "var2　<- unlist(add_book[3])    # リストをベクトルに変換して取得"
   ]
  },
  {
   "cell_type": "code",
   "execution_count": 95,
   "metadata": {
    "collapsed": false
   },
   "outputs": [
    {
     "data": {
      "text/html": [
       "<ol>\n",
       "\t<li>'顧客リスト'</li>\n",
       "\t<li><ol class=list-inline>\n",
       "\t<li>1</li>\n",
       "\t<li>2</li>\n",
       "\t<li>3</li>\n",
       "</ol>\n",
       "</li>\n",
       "</ol>\n"
      ],
      "text/latex": [
       "\\begin{enumerate}\n",
       "\\item '顧客リスト'\n",
       "\\item \\begin{enumerate*}\n",
       "\\item 1\n",
       "\\item 2\n",
       "\\item 3\n",
       "\\end{enumerate*}\n",
       "\n",
       "\\end{enumerate}\n"
      ],
      "text/markdown": [
       "1. '顧客リスト'\n",
       "2. 1. 1\n",
       "2. 2\n",
       "3. 3\n",
       "\n",
       "\n",
       "\n",
       "\n",
       "\n"
      ],
      "text/plain": [
       "[[1]]\n",
       "[1] \"顧客リスト\"\n",
       "\n",
       "[[2]]\n",
       "[1] 1 2 3\n"
      ]
     },
     "metadata": {},
     "output_type": "display_data"
    }
   ],
   "source": [
    "var1"
   ]
  },
  {
   "cell_type": "code",
   "execution_count": 96,
   "metadata": {
    "collapsed": false
   },
   "outputs": [
    {
     "data": {
      "text/html": [
       "<ol class=list-inline>\n",
       "\t<li>'秀和太郎'</li>\n",
       "\t<li>'築地花子'</li>\n",
       "\t<li>'宗田解析'</li>\n",
       "</ol>\n"
      ],
      "text/latex": [
       "\\begin{enumerate*}\n",
       "\\item '秀和太郎'\n",
       "\\item '築地花子'\n",
       "\\item '宗田解析'\n",
       "\\end{enumerate*}\n"
      ],
      "text/markdown": [
       "1. '秀和太郎'\n",
       "2. '築地花子'\n",
       "3. '宗田解析'\n",
       "\n",
       "\n"
      ],
      "text/plain": [
       "[1] \"秀和太郎\" \"築地花子\" \"宗田解析\""
      ]
     },
     "metadata": {},
     "output_type": "display_data"
    }
   ],
   "source": [
    "var2"
   ]
  },
  {
   "cell_type": "code",
   "execution_count": 97,
   "metadata": {
    "collapsed": true
   },
   "outputs": [],
   "source": [
    "add_book[[3]][[1]] <-\"築地太郎\" # リスト第3要素→サブリスト第1要素を変更"
   ]
  },
  {
   "cell_type": "code",
   "execution_count": 99,
   "metadata": {
    "collapsed": false
   },
   "outputs": [
    {
     "data": {
      "text/html": [
       "'築地太郎'"
      ],
      "text/latex": [
       "'築地太郎'"
      ],
      "text/markdown": [
       "'築地太郎'"
      ],
      "text/plain": [
       "[1] \"築地太郎\""
      ]
     },
     "metadata": {},
     "output_type": "display_data"
    }
   ],
   "source": [
    "add_book[[3]][[1]]"
   ]
  },
  {
   "cell_type": "code",
   "execution_count": 100,
   "metadata": {
    "collapsed": true
   },
   "outputs": [],
   "source": [
    "add_book[[3]][[1]] <- NULL      # リスト第3要素→サブリスト第1要素を削除\n",
    "add_book[[3]]      <- NULL      # リストの第3要素を削除"
   ]
  },
  {
   "cell_type": "code",
   "execution_count": 102,
   "metadata": {
    "collapsed": true
   },
   "outputs": [],
   "source": [
    "add_book2 <- list(\n",
    "                  id   = c(1:3),\n",
    "                  name = list(\"秀和太郎\", \"築地花子\", \"宗田解析\"),\n",
    "                  add  = list(\"中央区築地100-1\",\n",
    "                              \"中央区築地本町200\",\n",
    "                              \"中央区日本橋99\")\n",
    "                  )\n"
   ]
  },
  {
   "cell_type": "code",
   "execution_count": 103,
   "metadata": {
    "collapsed": false
   },
   "outputs": [
    {
     "data": {
      "text/html": [
       "<ol>\n",
       "\t<li>'秀和太郎'</li>\n",
       "\t<li>'築地花子'</li>\n",
       "\t<li>'宗田解析'</li>\n",
       "</ol>\n"
      ],
      "text/latex": [
       "\\begin{enumerate}\n",
       "\\item '秀和太郎'\n",
       "\\item '築地花子'\n",
       "\\item '宗田解析'\n",
       "\\end{enumerate}\n"
      ],
      "text/markdown": [
       "1. '秀和太郎'\n",
       "2. '築地花子'\n",
       "3. '宗田解析'\n",
       "\n",
       "\n"
      ],
      "text/plain": [
       "[[1]]\n",
       "[1] \"秀和太郎\"\n",
       "\n",
       "[[2]]\n",
       "[1] \"築地花子\"\n",
       "\n",
       "[[3]]\n",
       "[1] \"宗田解析\"\n"
      ]
     },
     "metadata": {},
     "output_type": "display_data"
    },
    {
     "data": {
      "text/html": [
       "<ol>\n",
       "\t<li>'秀和太郎'</li>\n",
       "\t<li>'築地花子'</li>\n",
       "\t<li>'宗田解析'</li>\n",
       "</ol>\n"
      ],
      "text/latex": [
       "\\begin{enumerate}\n",
       "\\item '秀和太郎'\n",
       "\\item '築地花子'\n",
       "\\item '宗田解析'\n",
       "\\end{enumerate}\n"
      ],
      "text/markdown": [
       "1. '秀和太郎'\n",
       "2. '築地花子'\n",
       "3. '宗田解析'\n",
       "\n",
       "\n"
      ],
      "text/plain": [
       "[[1]]\n",
       "[1] \"秀和太郎\"\n",
       "\n",
       "[[2]]\n",
       "[1] \"築地花子\"\n",
       "\n",
       "[[3]]\n",
       "[1] \"宗田解析\"\n"
      ]
     },
     "metadata": {},
     "output_type": "display_data"
    },
    {
     "data": {
      "text/html": [
       "<strong>$name</strong> = <ol>\n",
       "\t<li>'秀和太郎'</li>\n",
       "\t<li>'築地花子'</li>\n",
       "\t<li>'宗田解析'</li>\n",
       "</ol>\n"
      ],
      "text/latex": [
       "\\textbf{\\$name} = \\begin{enumerate}\n",
       "\\item '秀和太郎'\n",
       "\\item '築地花子'\n",
       "\\item '宗田解析'\n",
       "\\end{enumerate}\n"
      ],
      "text/markdown": [
       "**$name** = 1. '秀和太郎'\n",
       "2. '築地花子'\n",
       "3. '宗田解析'\n",
       "\n",
       "\n"
      ],
      "text/plain": [
       "$name\n",
       "$name[[1]]\n",
       "[1] \"秀和太郎\"\n",
       "\n",
       "$name[[2]]\n",
       "[1] \"築地花子\"\n",
       "\n",
       "$name[[3]]\n",
       "[1] \"宗田解析\"\n",
       "\n"
      ]
     },
     "metadata": {},
     "output_type": "display_data"
    },
    {
     "data": {
      "text/html": [
       "'秀和太郎'"
      ],
      "text/latex": [
       "'秀和太郎'"
      ],
      "text/markdown": [
       "'秀和太郎'"
      ],
      "text/plain": [
       "[1] \"秀和太郎\""
      ]
     },
     "metadata": {},
     "output_type": "display_data"
    },
    {
     "data": {
      "text/html": [
       "<ol>\n",
       "\t<li>'秀和太郎'</li>\n",
       "</ol>\n"
      ],
      "text/latex": [
       "\\begin{enumerate}\n",
       "\\item '秀和太郎'\n",
       "\\end{enumerate}\n"
      ],
      "text/markdown": [
       "1. '秀和太郎'\n",
       "\n",
       "\n"
      ],
      "text/plain": [
       "[[1]]\n",
       "[1] \"秀和太郎\"\n"
      ]
     },
     "metadata": {},
     "output_type": "display_data"
    }
   ],
   "source": [
    "add_book2[[\"name\"]]       # 名前付きリスト要素の取り出し\n",
    "add_book2$\"name\"          # 名前付きリスト要素の取り出し\n",
    "add_book2[\"name\"]         # 名前付きリスト要素を名前付きで取り出し\n",
    "add_book2[[\"name\"]][[1]]  # 名前付きリスト要素のサブ要素の取り出し\n",
    "add_book2[[\"name\"]][1]    # 名前付きリスト要素のサブ要素をリストに格納して取り出し"
   ]
  },
  {
   "cell_type": "code",
   "execution_count": 104,
   "metadata": {
    "collapsed": true
   },
   "outputs": [],
   "source": [
    "vct1 <- c(1, 2, 3, 4, 5, 6)\n",
    "vct2 <- c(10, 20, 30, 40, 50, 60)\n",
    "vct3 <- c(100, 200, 300, 400, 500, 600)"
   ]
  },
  {
   "cell_type": "code",
   "execution_count": 105,
   "metadata": {
    "collapsed": true
   },
   "outputs": [],
   "source": [
    "mtx1 <- matrix(vct1)             # 行列を作成"
   ]
  },
  {
   "cell_type": "code",
   "execution_count": 106,
   "metadata": {
    "collapsed": false
   },
   "outputs": [
    {
     "data": {
      "text/html": [
       "<table>\n",
       "<tbody>\n",
       "\t<tr><td>1</td></tr>\n",
       "\t<tr><td>2</td></tr>\n",
       "\t<tr><td>3</td></tr>\n",
       "\t<tr><td>4</td></tr>\n",
       "\t<tr><td>5</td></tr>\n",
       "\t<tr><td>6</td></tr>\n",
       "</tbody>\n",
       "</table>\n"
      ],
      "text/latex": [
       "\\begin{tabular}{l}\n",
       "\t 1\\\\\n",
       "\t 2\\\\\n",
       "\t 3\\\\\n",
       "\t 4\\\\\n",
       "\t 5\\\\\n",
       "\t 6\\\\\n",
       "\\end{tabular}\n"
      ],
      "text/markdown": [
       "\n",
       "| 1 | \n",
       "| 2 | \n",
       "| 3 | \n",
       "| 4 | \n",
       "| 5 | \n",
       "| 6 | \n",
       "\n",
       "\n"
      ],
      "text/plain": [
       "     [,1]\n",
       "[1,] 1   \n",
       "[2,] 2   \n",
       "[3,] 3   \n",
       "[4,] 4   \n",
       "[5,] 5   \n",
       "[6,] 6   "
      ]
     },
     "metadata": {},
     "output_type": "display_data"
    }
   ],
   "source": [
    "mtx1"
   ]
  },
  {
   "cell_type": "code",
   "execution_count": 107,
   "metadata": {
    "collapsed": true
   },
   "outputs": [],
   "source": [
    "mtx2 <- matrix(vct1, nrow=2)     # 2行の行列を作成"
   ]
  },
  {
   "cell_type": "code",
   "execution_count": 108,
   "metadata": {
    "collapsed": false
   },
   "outputs": [
    {
     "data": {
      "text/html": [
       "<table>\n",
       "<tbody>\n",
       "\t<tr><td>1</td><td>3</td><td>5</td></tr>\n",
       "\t<tr><td>2</td><td>4</td><td>6</td></tr>\n",
       "</tbody>\n",
       "</table>\n"
      ],
      "text/latex": [
       "\\begin{tabular}{lll}\n",
       "\t 1 & 3 & 5\\\\\n",
       "\t 2 & 4 & 6\\\\\n",
       "\\end{tabular}\n"
      ],
      "text/markdown": [
       "\n",
       "| 1 | 3 | 5 | \n",
       "| 2 | 4 | 6 | \n",
       "\n",
       "\n"
      ],
      "text/plain": [
       "     [,1] [,2] [,3]\n",
       "[1,] 1    3    5   \n",
       "[2,] 2    4    6   "
      ]
     },
     "metadata": {},
     "output_type": "display_data"
    }
   ],
   "source": [
    "mtx2"
   ]
  },
  {
   "cell_type": "code",
   "execution_count": 109,
   "metadata": {
    "collapsed": true
   },
   "outputs": [],
   "source": [
    "mtx3 <- matrix(vct1, ncol=2)     # 2列の行列を作成"
   ]
  },
  {
   "cell_type": "code",
   "execution_count": 110,
   "metadata": {
    "collapsed": false
   },
   "outputs": [
    {
     "data": {
      "text/html": [
       "<table>\n",
       "<tbody>\n",
       "\t<tr><td>1</td><td>4</td></tr>\n",
       "\t<tr><td>2</td><td>5</td></tr>\n",
       "\t<tr><td>3</td><td>6</td></tr>\n",
       "</tbody>\n",
       "</table>\n"
      ],
      "text/latex": [
       "\\begin{tabular}{ll}\n",
       "\t 1 & 4\\\\\n",
       "\t 2 & 5\\\\\n",
       "\t 3 & 6\\\\\n",
       "\\end{tabular}\n"
      ],
      "text/markdown": [
       "\n",
       "| 1 | 4 | \n",
       "| 2 | 5 | \n",
       "| 3 | 6 | \n",
       "\n",
       "\n"
      ],
      "text/plain": [
       "     [,1] [,2]\n",
       "[1,] 1    4   \n",
       "[2,] 2    5   \n",
       "[3,] 3    6   "
      ]
     },
     "metadata": {},
     "output_type": "display_data"
    }
   ],
   "source": [
    "mtx3"
   ]
  },
  {
   "cell_type": "code",
   "execution_count": 111,
   "metadata": {
    "collapsed": true
   },
   "outputs": [],
   "source": [
    "mtx4 <- matrix(vct1, 2,2)        # 2(行)×2(列)の行列を作成"
   ]
  },
  {
   "cell_type": "code",
   "execution_count": 112,
   "metadata": {
    "collapsed": false
   },
   "outputs": [
    {
     "data": {
      "text/html": [
       "<table>\n",
       "<tbody>\n",
       "\t<tr><td>1</td><td>3</td></tr>\n",
       "\t<tr><td>2</td><td>4</td></tr>\n",
       "</tbody>\n",
       "</table>\n"
      ],
      "text/latex": [
       "\\begin{tabular}{ll}\n",
       "\t 1 & 3\\\\\n",
       "\t 2 & 4\\\\\n",
       "\\end{tabular}\n"
      ],
      "text/markdown": [
       "\n",
       "| 1 | 3 | \n",
       "| 2 | 4 | \n",
       "\n",
       "\n"
      ],
      "text/plain": [
       "     [,1] [,2]\n",
       "[1,] 1    3   \n",
       "[2,] 2    4   "
      ]
     },
     "metadata": {},
     "output_type": "display_data"
    }
   ],
   "source": [
    "mtx4"
   ]
  },
  {
   "cell_type": "code",
   "execution_count": 113,
   "metadata": {
    "collapsed": true
   },
   "outputs": [],
   "source": [
    "mtx5 <- matrix(vct1,\n",
    "               nrow=2,           # 2行の行列\n",
    "               byrow = TRUE)     # 値を行方向に並べ"
   ]
  },
  {
   "cell_type": "code",
   "execution_count": 114,
   "metadata": {
    "collapsed": false
   },
   "outputs": [
    {
     "data": {
      "text/html": [
       "<table>\n",
       "<tbody>\n",
       "\t<tr><td>1</td><td>2</td><td>3</td></tr>\n",
       "\t<tr><td>4</td><td>5</td><td>6</td></tr>\n",
       "</tbody>\n",
       "</table>\n"
      ],
      "text/latex": [
       "\\begin{tabular}{lll}\n",
       "\t 1 & 2 & 3\\\\\n",
       "\t 4 & 5 & 6\\\\\n",
       "\\end{tabular}\n"
      ],
      "text/markdown": [
       "\n",
       "| 1 | 2 | 3 | \n",
       "| 4 | 5 | 6 | \n",
       "\n",
       "\n"
      ],
      "text/plain": [
       "     [,1] [,2] [,3]\n",
       "[1,] 1    2    3   \n",
       "[2,] 4    5    6   "
      ]
     },
     "metadata": {},
     "output_type": "display_data"
    }
   ],
   "source": [
    "mtx5"
   ]
  },
  {
   "cell_type": "code",
   "execution_count": 115,
   "metadata": {
    "collapsed": true
   },
   "outputs": [],
   "source": [
    "mtx6 <- rbind(vct1, vct2, vct3)  # 3つのベクトルを行として連結する"
   ]
  },
  {
   "cell_type": "code",
   "execution_count": 116,
   "metadata": {
    "collapsed": false
   },
   "outputs": [
    {
     "data": {
      "text/html": [
       "<table>\n",
       "<tbody>\n",
       "\t<tr><th scope=row>vct1</th><td>  1</td><td>  2</td><td>  3</td><td>  4</td><td>  5</td><td>  6</td></tr>\n",
       "\t<tr><th scope=row>vct2</th><td> 10</td><td> 20</td><td> 30</td><td> 40</td><td> 50</td><td> 60</td></tr>\n",
       "\t<tr><th scope=row>vct3</th><td>100</td><td>200</td><td>300</td><td>400</td><td>500</td><td>600</td></tr>\n",
       "</tbody>\n",
       "</table>\n"
      ],
      "text/latex": [
       "\\begin{tabular}{r|llllll}\n",
       "\tvct1 &   1 &   2 &   3 &   4 &   5 &   6\\\\\n",
       "\tvct2 &  10 &  20 &  30 &  40 &  50 &  60\\\\\n",
       "\tvct3 & 100 & 200 & 300 & 400 & 500 & 600\\\\\n",
       "\\end{tabular}\n"
      ],
      "text/markdown": [
       "\n",
       "| vct1 |   1 |   2 |   3 |   4 |   5 |   6 | \n",
       "| vct2 |  10 |  20 |  30 |  40 |  50 |  60 | \n",
       "| vct3 | 100 | 200 | 300 | 400 | 500 | 600 | \n",
       "\n",
       "\n"
      ],
      "text/plain": [
       "     [,1] [,2] [,3] [,4] [,5] [,6]\n",
       "vct1   1    2    3    4    5    6 \n",
       "vct2  10   20   30   40   50   60 \n",
       "vct3 100  200  300  400  500  600 "
      ]
     },
     "metadata": {},
     "output_type": "display_data"
    }
   ],
   "source": [
    "mtx6"
   ]
  },
  {
   "cell_type": "code",
   "execution_count": 117,
   "metadata": {
    "collapsed": false
   },
   "outputs": [
    {
     "data": {
      "text/html": [
       "<ol class=list-inline>\n",
       "\t<li>111</li>\n",
       "\t<li>222</li>\n",
       "\t<li>333</li>\n",
       "\t<li>444</li>\n",
       "\t<li>555</li>\n",
       "\t<li>666</li>\n",
       "</ol>\n"
      ],
      "text/latex": [
       "\\begin{enumerate*}\n",
       "\\item 111\n",
       "\\item 222\n",
       "\\item 333\n",
       "\\item 444\n",
       "\\item 555\n",
       "\\item 666\n",
       "\\end{enumerate*}\n"
      ],
      "text/markdown": [
       "1. 111\n",
       "2. 222\n",
       "3. 333\n",
       "4. 444\n",
       "5. 555\n",
       "6. 666\n",
       "\n",
       "\n"
      ],
      "text/plain": [
       "[1] 111 222 333 444 555 666"
      ]
     },
     "metadata": {},
     "output_type": "display_data"
    }
   ],
   "source": [
    "colSums(mtx6)                    # 列の合計を求める"
   ]
  },
  {
   "cell_type": "code",
   "execution_count": 118,
   "metadata": {
    "collapsed": false
   },
   "outputs": [
    {
     "data": {
      "text/html": [
       "<dl class=dl-horizontal>\n",
       "\t<dt>vct1</dt>\n",
       "\t\t<dd>21</dd>\n",
       "\t<dt>vct2</dt>\n",
       "\t\t<dd>210</dd>\n",
       "\t<dt>vct3</dt>\n",
       "\t\t<dd>2100</dd>\n",
       "</dl>\n"
      ],
      "text/latex": [
       "\\begin{description*}\n",
       "\\item[vct1] 21\n",
       "\\item[vct2] 210\n",
       "\\item[vct3] 2100\n",
       "\\end{description*}\n"
      ],
      "text/markdown": [
       "vct1\n",
       ":   21vct2\n",
       ":   210vct3\n",
       ":   2100\n",
       "\n"
      ],
      "text/plain": [
       "vct1 vct2 vct3 \n",
       "  21  210 2100 "
      ]
     },
     "metadata": {},
     "output_type": "display_data"
    }
   ],
   "source": [
    "rowSums(mtx6)                    # 行の合計を求める"
   ]
  },
  {
   "cell_type": "code",
   "execution_count": 120,
   "metadata": {
    "collapsed": false
   },
   "outputs": [
    {
     "data": {
      "text/html": [
       "<table>\n",
       "<thead><tr><th scope=col>vct1</th><th scope=col>vct2</th><th scope=col>vct3</th></tr></thead>\n",
       "<tbody>\n",
       "\t<tr><td>1  </td><td>10 </td><td>100</td></tr>\n",
       "\t<tr><td>2  </td><td>20 </td><td>200</td></tr>\n",
       "\t<tr><td>3  </td><td>30 </td><td>300</td></tr>\n",
       "\t<tr><td>4  </td><td>40 </td><td>400</td></tr>\n",
       "\t<tr><td>5  </td><td>50 </td><td>500</td></tr>\n",
       "\t<tr><td>6  </td><td>60 </td><td>600</td></tr>\n",
       "</tbody>\n",
       "</table>\n"
      ],
      "text/latex": [
       "\\begin{tabular}{lll}\n",
       " vct1 & vct2 & vct3\\\\\n",
       "\\hline\n",
       "\t 1   & 10  & 100\\\\\n",
       "\t 2   & 20  & 200\\\\\n",
       "\t 3   & 30  & 300\\\\\n",
       "\t 4   & 40  & 400\\\\\n",
       "\t 5   & 50  & 500\\\\\n",
       "\t 6   & 60  & 600\\\\\n",
       "\\end{tabular}\n"
      ],
      "text/markdown": [
       "\n",
       "vct1 | vct2 | vct3 | \n",
       "|---|---|---|---|---|---|\n",
       "| 1   | 10  | 100 | \n",
       "| 2   | 20  | 200 | \n",
       "| 3   | 30  | 300 | \n",
       "| 4   | 40  | 400 | \n",
       "| 5   | 50  | 500 | \n",
       "| 6   | 60  | 600 | \n",
       "\n",
       "\n"
      ],
      "text/plain": [
       "     vct1 vct2 vct3\n",
       "[1,] 1    10   100 \n",
       "[2,] 2    20   200 \n",
       "[3,] 3    30   300 \n",
       "[4,] 4    40   400 \n",
       "[5,] 5    50   500 \n",
       "[6,] 6    60   600 "
      ]
     },
     "metadata": {},
     "output_type": "display_data"
    }
   ],
   "source": [
    "mtx7 <- cbind(vct1, vct2, vct3)  # 3つのベクトルを列として連結する\n",
    "mtx7"
   ]
  },
  {
   "cell_type": "code",
   "execution_count": 121,
   "metadata": {
    "collapsed": false
   },
   "outputs": [
    {
     "data": {
      "text/html": [
       "<dl class=dl-horizontal>\n",
       "\t<dt>vct1</dt>\n",
       "\t\t<dd>21</dd>\n",
       "\t<dt>vct2</dt>\n",
       "\t\t<dd>210</dd>\n",
       "\t<dt>vct3</dt>\n",
       "\t\t<dd>2100</dd>\n",
       "</dl>\n"
      ],
      "text/latex": [
       "\\begin{description*}\n",
       "\\item[vct1] 21\n",
       "\\item[vct2] 210\n",
       "\\item[vct3] 2100\n",
       "\\end{description*}\n"
      ],
      "text/markdown": [
       "vct1\n",
       ":   21vct2\n",
       ":   210vct3\n",
       ":   2100\n",
       "\n"
      ],
      "text/plain": [
       "vct1 vct2 vct3 \n",
       "  21  210 2100 "
      ]
     },
     "metadata": {},
     "output_type": "display_data"
    },
    {
     "data": {
      "text/html": [
       "<ol class=list-inline>\n",
       "\t<li>111</li>\n",
       "\t<li>222</li>\n",
       "\t<li>333</li>\n",
       "\t<li>444</li>\n",
       "\t<li>555</li>\n",
       "\t<li>666</li>\n",
       "</ol>\n"
      ],
      "text/latex": [
       "\\begin{enumerate*}\n",
       "\\item 111\n",
       "\\item 222\n",
       "\\item 333\n",
       "\\item 444\n",
       "\\item 555\n",
       "\\item 666\n",
       "\\end{enumerate*}\n"
      ],
      "text/markdown": [
       "1. 111\n",
       "2. 222\n",
       "3. 333\n",
       "4. 444\n",
       "5. 555\n",
       "6. 666\n",
       "\n",
       "\n"
      ],
      "text/plain": [
       "[1] 111 222 333 444 555 666"
      ]
     },
     "metadata": {},
     "output_type": "display_data"
    }
   ],
   "source": [
    "colSums(mtx7)                    # 列の合計を求める\n",
    "rowSums(mtx7)                    # 行の合計を求める"
   ]
  },
  {
   "cell_type": "code",
   "execution_count": 122,
   "metadata": {
    "collapsed": false
   },
   "outputs": [
    {
     "data": {
      "text/html": [
       "<dl class=dl-horizontal>\n",
       "\t<dt>vct1</dt>\n",
       "\t\t<dd>1</dd>\n",
       "\t<dt>vct2</dt>\n",
       "\t\t<dd>10</dd>\n",
       "\t<dt>vct3</dt>\n",
       "\t\t<dd>100</dd>\n",
       "</dl>\n"
      ],
      "text/latex": [
       "\\begin{description*}\n",
       "\\item[vct1] 1\n",
       "\\item[vct2] 10\n",
       "\\item[vct3] 100\n",
       "\\end{description*}\n"
      ],
      "text/markdown": [
       "vct1\n",
       ":   1vct2\n",
       ":   10vct3\n",
       ":   100\n",
       "\n"
      ],
      "text/plain": [
       "vct1 vct2 vct3 \n",
       "   1   10  100 "
      ]
     },
     "metadata": {},
     "output_type": "display_data"
    },
    {
     "data": {
      "text/html": [
       "<ol class=list-inline>\n",
       "\t<li>1</li>\n",
       "\t<li>2</li>\n",
       "\t<li>3</li>\n",
       "\t<li>4</li>\n",
       "\t<li>5</li>\n",
       "\t<li>6</li>\n",
       "</ol>\n"
      ],
      "text/latex": [
       "\\begin{enumerate*}\n",
       "\\item 1\n",
       "\\item 2\n",
       "\\item 3\n",
       "\\item 4\n",
       "\\item 5\n",
       "\\item 6\n",
       "\\end{enumerate*}\n"
      ],
      "text/markdown": [
       "1. 1\n",
       "2. 2\n",
       "3. 3\n",
       "4. 4\n",
       "5. 5\n",
       "6. 6\n",
       "\n",
       "\n"
      ],
      "text/plain": [
       "[1] 1 2 3 4 5 6"
      ]
     },
     "metadata": {},
     "output_type": "display_data"
    },
    {
     "data": {
      "text/html": [
       "<strong>vct1:</strong> 1"
      ],
      "text/latex": [
       "\\textbf{vct1:} 1"
      ],
      "text/markdown": [
       "**vct1:** 1"
      ],
      "text/plain": [
       "vct1 \n",
       "   1 "
      ]
     },
     "metadata": {},
     "output_type": "display_data"
    }
   ],
   "source": [
    "mtx7[1,]   # 1行目を取り出す\n",
    "mtx7[,1]   # 1列目を取り出す\n",
    "mtx7[1,1]  # 1行目の1列目の値を取り出す"
   ]
  },
  {
   "cell_type": "code",
   "execution_count": 123,
   "metadata": {
    "collapsed": true
   },
   "outputs": [],
   "source": [
    "branch <- c(\n",
    "          \"初台店\",\n",
    "          \"幡谷店\",\n",
    "          \"吉祥寺店\",\n",
    "          \"笹塚店\",\n",
    "          \"明大前店\"\n",
    "          )\n",
    "\n",
    "sales <- c(\n",
    "           2024,\n",
    "           2164,\n",
    "           6465,\n",
    "           2186,\n",
    "           2348\n",
    "          )\n",
    "\n",
    "df <- data.frame(branch=branch, salses=sales)"
   ]
  },
  {
   "cell_type": "code",
   "execution_count": 124,
   "metadata": {
    "collapsed": false
   },
   "outputs": [
    {
     "data": {
      "text/html": [
       "<table>\n",
       "<thead><tr><th scope=col>branch</th><th scope=col>salses</th></tr></thead>\n",
       "<tbody>\n",
       "\t<tr><td>初台店  </td><td>2024    </td></tr>\n",
       "\t<tr><td>幡谷店  </td><td>2164    </td></tr>\n",
       "\t<tr><td>吉祥寺店</td><td>6465    </td></tr>\n",
       "\t<tr><td>笹塚店  </td><td>2186    </td></tr>\n",
       "\t<tr><td>明大前店</td><td>2348    </td></tr>\n",
       "</tbody>\n",
       "</table>\n"
      ],
      "text/latex": [
       "\\begin{tabular}{r|ll}\n",
       " branch & salses\\\\\n",
       "\\hline\n",
       "\t 初台店   & 2024    \\\\\n",
       "\t 幡谷店   & 2164    \\\\\n",
       "\t 吉祥寺店 & 6465    \\\\\n",
       "\t 笹塚店   & 2186    \\\\\n",
       "\t 明大前店 & 2348    \\\\\n",
       "\\end{tabular}\n"
      ],
      "text/markdown": [
       "\n",
       "branch | salses | \n",
       "|---|---|---|---|---|\n",
       "| 初台店   | 2024     | \n",
       "| 幡谷店   | 2164     | \n",
       "| 吉祥寺店 | 6465     | \n",
       "| 笹塚店   | 2186     | \n",
       "| 明大前店 | 2348     | \n",
       "\n",
       "\n"
      ],
      "text/plain": [
       "  branch   salses\n",
       "1 初台店   2024  \n",
       "2 幡谷店   2164  \n",
       "3 吉祥寺店 6465  \n",
       "4 笹塚店   2186  \n",
       "5 明大前店 2348  "
      ]
     },
     "metadata": {},
     "output_type": "display_data"
    }
   ],
   "source": [
    "df"
   ]
  },
  {
   "cell_type": "code",
   "execution_count": 125,
   "metadata": {
    "collapsed": false
   },
   "outputs": [
    {
     "data": {
      "text/html": [
       "<ol class=list-inline>\n",
       "\t<li>初台店</li>\n",
       "\t<li>幡谷店</li>\n",
       "\t<li>吉祥寺店</li>\n",
       "\t<li>笹塚店</li>\n",
       "\t<li>明大前店</li>\n",
       "</ol>\n"
      ],
      "text/latex": [
       "\\begin{enumerate*}\n",
       "\\item 初台店\n",
       "\\item 幡谷店\n",
       "\\item 吉祥寺店\n",
       "\\item 笹塚店\n",
       "\\item 明大前店\n",
       "\\end{enumerate*}\n"
      ],
      "text/markdown": [
       "1. 初台店\n",
       "2. 幡谷店\n",
       "3. 吉祥寺店\n",
       "4. 笹塚店\n",
       "5. 明大前店\n",
       "\n",
       "\n"
      ],
      "text/plain": [
       "[1] 初台店   幡谷店   吉祥寺店 笹塚店   明大前店\n",
       "Levels: 吉祥寺店 笹塚店 初台店 幡谷店 明大前店"
      ]
     },
     "metadata": {},
     "output_type": "display_data"
    },
    {
     "data": {
      "text/html": [
       "<ol class=list-inline>\n",
       "\t<li>初台店</li>\n",
       "\t<li>幡谷店</li>\n",
       "\t<li>吉祥寺店</li>\n",
       "\t<li>笹塚店</li>\n",
       "\t<li>明大前店</li>\n",
       "</ol>\n"
      ],
      "text/latex": [
       "\\begin{enumerate*}\n",
       "\\item 初台店\n",
       "\\item 幡谷店\n",
       "\\item 吉祥寺店\n",
       "\\item 笹塚店\n",
       "\\item 明大前店\n",
       "\\end{enumerate*}\n"
      ],
      "text/markdown": [
       "1. 初台店\n",
       "2. 幡谷店\n",
       "3. 吉祥寺店\n",
       "4. 笹塚店\n",
       "5. 明大前店\n",
       "\n",
       "\n"
      ],
      "text/plain": [
       "[1] 初台店   幡谷店   吉祥寺店 笹塚店   明大前店\n",
       "Levels: 吉祥寺店 笹塚店 初台店 幡谷店 明大前店"
      ]
     },
     "metadata": {},
     "output_type": "display_data"
    },
    {
     "data": {
      "text/html": [
       "<ol class=list-inline>\n",
       "\t<li>初台店</li>\n",
       "\t<li>幡谷店</li>\n",
       "\t<li>吉祥寺店</li>\n",
       "\t<li>笹塚店</li>\n",
       "\t<li>明大前店</li>\n",
       "</ol>\n"
      ],
      "text/latex": [
       "\\begin{enumerate*}\n",
       "\\item 初台店\n",
       "\\item 幡谷店\n",
       "\\item 吉祥寺店\n",
       "\\item 笹塚店\n",
       "\\item 明大前店\n",
       "\\end{enumerate*}\n"
      ],
      "text/markdown": [
       "1. 初台店\n",
       "2. 幡谷店\n",
       "3. 吉祥寺店\n",
       "4. 笹塚店\n",
       "5. 明大前店\n",
       "\n",
       "\n"
      ],
      "text/plain": [
       "[1] 初台店   幡谷店   吉祥寺店 笹塚店   明大前店\n",
       "Levels: 吉祥寺店 笹塚店 初台店 幡谷店 明大前店"
      ]
     },
     "metadata": {},
     "output_type": "display_data"
    },
    {
     "data": {
      "text/html": [
       "<table>\n",
       "<thead><tr><th scope=col>branch</th></tr></thead>\n",
       "<tbody>\n",
       "\t<tr><td>初台店  </td></tr>\n",
       "\t<tr><td>幡谷店  </td></tr>\n",
       "\t<tr><td>吉祥寺店</td></tr>\n",
       "\t<tr><td>笹塚店  </td></tr>\n",
       "\t<tr><td>明大前店</td></tr>\n",
       "</tbody>\n",
       "</table>\n"
      ],
      "text/latex": [
       "\\begin{tabular}{r|l}\n",
       " branch\\\\\n",
       "\\hline\n",
       "\t 初台店  \\\\\n",
       "\t 幡谷店  \\\\\n",
       "\t 吉祥寺店\\\\\n",
       "\t 笹塚店  \\\\\n",
       "\t 明大前店\\\\\n",
       "\\end{tabular}\n"
      ],
      "text/markdown": [
       "\n",
       "branch | \n",
       "|---|---|---|---|---|\n",
       "| 初台店   | \n",
       "| 幡谷店   | \n",
       "| 吉祥寺店 | \n",
       "| 笹塚店   | \n",
       "| 明大前店 | \n",
       "\n",
       "\n"
      ],
      "text/plain": [
       "  branch  \n",
       "1 初台店  \n",
       "2 幡谷店  \n",
       "3 吉祥寺店\n",
       "4 笹塚店  \n",
       "5 明大前店"
      ]
     },
     "metadata": {},
     "output_type": "display_data"
    },
    {
     "data": {
      "text/html": [
       "<table>\n",
       "<thead><tr><th scope=col>branch</th><th scope=col>salses</th></tr></thead>\n",
       "<tbody>\n",
       "\t<tr><td>初台店</td><td>2024  </td></tr>\n",
       "</tbody>\n",
       "</table>\n"
      ],
      "text/latex": [
       "\\begin{tabular}{r|ll}\n",
       " branch & salses\\\\\n",
       "\\hline\n",
       "\t 初台店 & 2024  \\\\\n",
       "\\end{tabular}\n"
      ],
      "text/markdown": [
       "\n",
       "branch | salses | \n",
       "|---|\n",
       "| 初台店 | 2024   | \n",
       "\n",
       "\n"
      ],
      "text/plain": [
       "  branch salses\n",
       "1 初台店 2024  "
      ]
     },
     "metadata": {},
     "output_type": "display_data"
    }
   ],
   "source": [
    "df$branch # 列データを要素として取り出す\n",
    "df[[1]]   # 列データを要素として取り出す\n",
    "df[,1]    # 列データを要素として取り出す\n",
    "df[1]     # 列データをリストとして取り出す\n",
    "\n",
    "df[1,]    # 行データをリストとして取り出す"
   ]
  },
  {
   "cell_type": "code",
   "execution_count": 128,
   "metadata": {
    "collapsed": false
   },
   "outputs": [],
   "source": [
    "data <- read.table(             # 店舗別売上.txtをdataに代入\n",
    "  \"data/店舗別売上.txt\",\n",
    "  header=TRUE,                  # 1行目は列名であることを指定\n",
    "  fileEncoding=\"CP932\"\n",
    ")"
   ]
  },
  {
   "cell_type": "code",
   "execution_count": 129,
   "metadata": {
    "collapsed": false
   },
   "outputs": [
    {
     "data": {
      "text/html": [
       "<table>\n",
       "<thead><tr><th scope=col>店舗名</th><th scope=col>売上高_千円</th></tr></thead>\n",
       "<tbody>\n",
       "\t<tr><td>初台店      </td><td>2024        </td></tr>\n",
       "\t<tr><td>幡谷店      </td><td>2164        </td></tr>\n",
       "\t<tr><td>吉祥寺店    </td><td>6465        </td></tr>\n",
       "\t<tr><td>笹塚店      </td><td>2186        </td></tr>\n",
       "\t<tr><td>明大前店    </td><td>2348        </td></tr>\n",
       "\t<tr><td>下高井戸店  </td><td>1981        </td></tr>\n",
       "\t<tr><td>桜上水店    </td><td>2256        </td></tr>\n",
       "\t<tr><td>千歳烏山店  </td><td>3177        </td></tr>\n",
       "\t<tr><td>仙川店      </td><td>1861        </td></tr>\n",
       "\t<tr><td>下高井戸店  </td><td>3249        </td></tr>\n",
       "\t<tr><td>つつじヶ丘店</td><td>2464        </td></tr>\n",
       "\t<tr><td>調布店      </td><td>1975        </td></tr>\n",
       "\t<tr><td>聖蹟桜ヶ丘店</td><td>2496        </td></tr>\n",
       "\t<tr><td>高幡不動店  </td><td>3246        </td></tr>\n",
       "\t<tr><td>八幡山店    </td><td>2465        </td></tr>\n",
       "\t<tr><td>上北沢店    </td><td>1654        </td></tr>\n",
       "\t<tr><td>下北沢店    </td><td>2654        </td></tr>\n",
       "\t<tr><td>府中店      </td><td>3321        </td></tr>\n",
       "\t<tr><td>新宿店      </td><td>6612        </td></tr>\n",
       "\t<tr><td>永福町店    </td><td>3189        </td></tr>\n",
       "</tbody>\n",
       "</table>\n"
      ],
      "text/latex": [
       "\\begin{tabular}{r|ll}\n",
       " 店舗名 & 売上高\\_千円\\\\\n",
       "\\hline\n",
       "\t 初台店       & 2024        \\\\\n",
       "\t 幡谷店       & 2164        \\\\\n",
       "\t 吉祥寺店     & 6465        \\\\\n",
       "\t 笹塚店       & 2186        \\\\\n",
       "\t 明大前店     & 2348        \\\\\n",
       "\t 下高井戸店   & 1981        \\\\\n",
       "\t 桜上水店     & 2256        \\\\\n",
       "\t 千歳烏山店   & 3177        \\\\\n",
       "\t 仙川店       & 1861        \\\\\n",
       "\t 下高井戸店   & 3249        \\\\\n",
       "\t つつじヶ丘店 & 2464        \\\\\n",
       "\t 調布店       & 1975        \\\\\n",
       "\t 聖蹟桜ヶ丘店 & 2496        \\\\\n",
       "\t 高幡不動店   & 3246        \\\\\n",
       "\t 八幡山店     & 2465        \\\\\n",
       "\t 上北沢店     & 1654        \\\\\n",
       "\t 下北沢店     & 2654        \\\\\n",
       "\t 府中店       & 3321        \\\\\n",
       "\t 新宿店       & 6612        \\\\\n",
       "\t 永福町店     & 3189        \\\\\n",
       "\\end{tabular}\n"
      ],
      "text/markdown": [
       "\n",
       "店舗名 | 売上高_千円 | \n",
       "|---|---|---|---|---|---|---|---|---|---|---|---|---|---|---|---|---|---|---|---|\n",
       "| 初台店       | 2024         | \n",
       "| 幡谷店       | 2164         | \n",
       "| 吉祥寺店     | 6465         | \n",
       "| 笹塚店       | 2186         | \n",
       "| 明大前店     | 2348         | \n",
       "| 下高井戸店   | 1981         | \n",
       "| 桜上水店     | 2256         | \n",
       "| 千歳烏山店   | 3177         | \n",
       "| 仙川店       | 1861         | \n",
       "| 下高井戸店   | 3249         | \n",
       "| つつじヶ丘店 | 2464         | \n",
       "| 調布店       | 1975         | \n",
       "| 聖蹟桜ヶ丘店 | 2496         | \n",
       "| 高幡不動店   | 3246         | \n",
       "| 八幡山店     | 2465         | \n",
       "| 上北沢店     | 1654         | \n",
       "| 下北沢店     | 2654         | \n",
       "| 府中店       | 3321         | \n",
       "| 新宿店       | 6612         | \n",
       "| 永福町店     | 3189         | \n",
       "\n",
       "\n"
      ],
      "text/plain": [
       "   店舗名       売上高_千円\n",
       "1  初台店       2024       \n",
       "2  幡谷店       2164       \n",
       "3  吉祥寺店     6465       \n",
       "4  笹塚店       2186       \n",
       "5  明大前店     2348       \n",
       "6  下高井戸店   1981       \n",
       "7  桜上水店     2256       \n",
       "8  千歳烏山店   3177       \n",
       "9  仙川店       1861       \n",
       "10 下高井戸店   3249       \n",
       "11 つつじヶ丘店 2464       \n",
       "12 調布店       1975       \n",
       "13 聖蹟桜ヶ丘店 2496       \n",
       "14 高幡不動店   3246       \n",
       "15 八幡山店     2465       \n",
       "16 上北沢店     1654       \n",
       "17 下北沢店     2654       \n",
       "18 府中店       3321       \n",
       "19 新宿店       6612       \n",
       "20 永福町店     3189       "
      ]
     },
     "metadata": {},
     "output_type": "display_data"
    }
   ],
   "source": [
    "data"
   ]
  },
  {
   "cell_type": "markdown",
   "metadata": {},
   "source": [
    "## 2.3"
   ]
  },
  {
   "cell_type": "code",
   "execution_count": 130,
   "metadata": {
    "collapsed": true
   },
   "outputs": [],
   "source": [
    "num <- -10\n",
    "\n",
    "if(num < 0){       # numは負の値であるか\n",
    "  num <- num * -1  # -1を掛けて正の値にする\n",
    "}"
   ]
  },
  {
   "cell_type": "code",
   "execution_count": 131,
   "metadata": {
    "collapsed": false
   },
   "outputs": [
    {
     "data": {
      "text/html": [
       "10"
      ],
      "text/latex": [
       "10"
      ],
      "text/markdown": [
       "10"
      ],
      "text/plain": [
       "[1] 10"
      ]
     },
     "metadata": {},
     "output_type": "display_data"
    }
   ],
   "source": [
    "num"
   ]
  },
  {
   "cell_type": "code",
   "execution_count": 132,
   "metadata": {
    "collapsed": true
   },
   "outputs": [],
   "source": [
    "num <- 10\n",
    "\n",
    "if(num < 0) {        # numは負の値であるか\n",
    "  num <- num * -1    # -1を掛けて正の値にする\n",
    "} else if(num > 0) { # numは正の値であるか\n",
    "  num <- num * -1    # -1を掛けて負の値にする\n",
    "}"
   ]
  },
  {
   "cell_type": "code",
   "execution_count": 133,
   "metadata": {
    "collapsed": false
   },
   "outputs": [
    {
     "data": {
      "text/html": [
       "-10"
      ],
      "text/latex": [
       "-10"
      ],
      "text/markdown": [
       "-10"
      ],
      "text/plain": [
       "[1] -10"
      ]
     },
     "metadata": {},
     "output_type": "display_data"
    }
   ],
   "source": [
    "num"
   ]
  },
  {
   "cell_type": "code",
   "execution_count": 134,
   "metadata": {
    "collapsed": true
   },
   "outputs": [],
   "source": [
    "num <- \"-10\"\n",
    "\n",
    "if(is.numeric(num) & num < 0){            # numは実数型かつ負の値であるか\n",
    "    num <- num * -1                       # -1を掛けて正の値にする\n",
    "  } else if (is.numeric(num) & num > 0) { # numは実数型かつ正の値であるか\n",
    "    num <- num * -1                       # -1を掛けて負の値にする\n",
    "  } else {                                # どの条件も成立しない場合 \n",
    "    num <- as.numeric(num)                # numeric型に変換する\n",
    "}"
   ]
  },
  {
   "cell_type": "code",
   "execution_count": 135,
   "metadata": {
    "collapsed": false
   },
   "outputs": [
    {
     "data": {
      "text/html": [
       "-10"
      ],
      "text/latex": [
       "-10"
      ],
      "text/markdown": [
       "-10"
      ],
      "text/plain": [
       "[1] -10"
      ]
     },
     "metadata": {},
     "output_type": "display_data"
    }
   ],
   "source": [
    "num"
   ]
  },
  {
   "cell_type": "code",
   "execution_count": 136,
   "metadata": {
    "collapsed": false
   },
   "outputs": [
    {
     "name": "stdout",
     "output_type": "stream",
     "text": [
      "[1] \"おはよう\"\n",
      "[1] \"こんにちは\"\n",
      "[1] \"こんばんは\"\n"
     ]
    }
   ],
   "source": [
    "for (word in c(\"おはよう\", \"こんにちは\", \"こんばんは\")) {\n",
    "    print(word)\n",
    "}"
   ]
  },
  {
   "cell_type": "code",
   "execution_count": 139,
   "metadata": {
    "collapsed": false
   },
   "outputs": [],
   "source": [
    "data <- read.table(    # 定着度.txtをdataに代入\n",
    "  \"data/定着度.txt\",\n",
    "  header=T,            # 1行目は列名であることを指定\n",
    "  fileEncoding=\"CP932\" # 文字コードをShift_JISに指定\n",
    ")\n",
    "\n",
    "j <- length(data[1,])  # 列の数を調べる\n",
    "\n",
    "for(i in c(1:j)) {\n",
    "  assign(\n",
    "    sprintf(\"x%d\", i), # xに連番を付けた名前を作る\n",
    "    data[,i]           # データフレムの1列目から代入する\n",
    "  )\n",
    "}"
   ]
  },
  {
   "cell_type": "code",
   "execution_count": 140,
   "metadata": {
    "collapsed": false
   },
   "outputs": [
    {
     "data": {
      "text/html": [
       "<ol class=list-inline>\n",
       "\t<li>A</li>\n",
       "\t<li>B</li>\n",
       "\t<li>C</li>\n",
       "\t<li>D</li>\n",
       "\t<li>E</li>\n",
       "\t<li>F</li>\n",
       "\t<li>G</li>\n",
       "</ol>\n"
      ],
      "text/latex": [
       "\\begin{enumerate*}\n",
       "\\item A\n",
       "\\item B\n",
       "\\item C\n",
       "\\item D\n",
       "\\item E\n",
       "\\item F\n",
       "\\item G\n",
       "\\end{enumerate*}\n"
      ],
      "text/markdown": [
       "1. A\n",
       "2. B\n",
       "3. C\n",
       "4. D\n",
       "5. E\n",
       "6. F\n",
       "7. G\n",
       "\n",
       "\n"
      ],
      "text/plain": [
       "[1] A B C D E F G\n",
       "Levels: A B C D E F G"
      ]
     },
     "metadata": {},
     "output_type": "display_data"
    }
   ],
   "source": [
    "x1"
   ]
  },
  {
   "cell_type": "code",
   "execution_count": 141,
   "metadata": {
    "collapsed": false
   },
   "outputs": [
    {
     "data": {
      "text/html": [
       "<ol class=list-inline>\n",
       "\t<li>66</li>\n",
       "\t<li>70</li>\n",
       "\t<li>52</li>\n",
       "\t<li>55</li>\n",
       "\t<li>73</li>\n",
       "\t<li>62</li>\n",
       "\t<li>75</li>\n",
       "</ol>\n"
      ],
      "text/latex": [
       "\\begin{enumerate*}\n",
       "\\item 66\n",
       "\\item 70\n",
       "\\item 52\n",
       "\\item 55\n",
       "\\item 73\n",
       "\\item 62\n",
       "\\item 75\n",
       "\\end{enumerate*}\n"
      ],
      "text/markdown": [
       "1. 66\n",
       "2. 70\n",
       "3. 52\n",
       "4. 55\n",
       "5. 73\n",
       "6. 62\n",
       "7. 75\n",
       "\n",
       "\n"
      ],
      "text/plain": [
       "[1] 66 70 52 55 73 62 75"
      ]
     },
     "metadata": {},
     "output_type": "display_data"
    }
   ],
   "source": [
    "x2"
   ]
  },
  {
   "cell_type": "code",
   "execution_count": 142,
   "metadata": {
    "collapsed": false
   },
   "outputs": [
    {
     "data": {
      "text/html": [
       "<ol class=list-inline>\n",
       "\t<li>56</li>\n",
       "\t<li>55</li>\n",
       "\t<li>48</li>\n",
       "\t<li>55</li>\n",
       "\t<li>60</li>\n",
       "\t<li>62</li>\n",
       "\t<li>40</li>\n",
       "</ol>\n"
      ],
      "text/latex": [
       "\\begin{enumerate*}\n",
       "\\item 56\n",
       "\\item 55\n",
       "\\item 48\n",
       "\\item 55\n",
       "\\item 60\n",
       "\\item 62\n",
       "\\item 40\n",
       "\\end{enumerate*}\n"
      ],
      "text/markdown": [
       "1. 56\n",
       "2. 55\n",
       "3. 48\n",
       "4. 55\n",
       "5. 60\n",
       "6. 62\n",
       "7. 40\n",
       "\n",
       "\n"
      ],
      "text/plain": [
       "[1] 56 55 48 55 60 62 40"
      ]
     },
     "metadata": {},
     "output_type": "display_data"
    }
   ],
   "source": [
    "x3"
   ]
  },
  {
   "cell_type": "code",
   "execution_count": 143,
   "metadata": {
    "collapsed": false
   },
   "outputs": [
    {
     "data": {
      "text/html": [
       "<ol class=list-inline>\n",
       "\t<li>37</li>\n",
       "\t<li>45</li>\n",
       "\t<li>54</li>\n",
       "\t<li>50</li>\n",
       "\t<li>62</li>\n",
       "\t<li>54</li>\n",
       "\t<li>60</li>\n",
       "</ol>\n"
      ],
      "text/latex": [
       "\\begin{enumerate*}\n",
       "\\item 37\n",
       "\\item 45\n",
       "\\item 54\n",
       "\\item 50\n",
       "\\item 62\n",
       "\\item 54\n",
       "\\item 60\n",
       "\\end{enumerate*}\n"
      ],
      "text/markdown": [
       "1. 37\n",
       "2. 45\n",
       "3. 54\n",
       "4. 50\n",
       "5. 62\n",
       "6. 54\n",
       "7. 60\n",
       "\n",
       "\n"
      ],
      "text/plain": [
       "[1] 37 45 54 50 62 54 60"
      ]
     },
     "metadata": {},
     "output_type": "display_data"
    }
   ],
   "source": [
    "x4"
   ]
  },
  {
   "cell_type": "code",
   "execution_count": 144,
   "metadata": {
    "collapsed": false
   },
   "outputs": [
    {
     "name": "stdout",
     "output_type": "stream",
     "text": [
      "[1] \"Hello!\"\n"
     ]
    }
   ],
   "source": [
    "show1 <- function() {\n",
    "  print(\"Hello!\")\n",
    "}\n",
    "\n",
    "show1()"
   ]
  },
  {
   "cell_type": "code",
   "execution_count": 145,
   "metadata": {
    "collapsed": false
   },
   "outputs": [
    {
     "name": "stdout",
     "output_type": "stream",
     "text": [
      "[1] \"Rの世界へ\"\n",
      "[1] \"ようこそ！\"\n"
     ]
    }
   ],
   "source": [
    "show2 <- function(word1, word2) {\n",
    "  print(word1)\n",
    "  print(word2)\n",
    "}\n",
    "\n",
    "show2(\"Rの世界へ\", \"ようこそ！\")"
   ]
  },
  {
   "cell_type": "code",
   "execution_count": 146,
   "metadata": {
    "collapsed": true
   },
   "outputs": [],
   "source": [
    "# 引数を受け取って戻り値を返す関数\n",
    "taxin <- function(val) {\n",
    "  tax_in <- val * 1.08\n",
    "  return(tax_in)\n",
    "}\n",
    "\n",
    "tax_in <- taxin(100)"
   ]
  },
  {
   "cell_type": "code",
   "execution_count": 147,
   "metadata": {
    "collapsed": false
   },
   "outputs": [
    {
     "data": {
      "text/html": [
       "108"
      ],
      "text/latex": [
       "108"
      ],
      "text/markdown": [
       "108"
      ],
      "text/plain": [
       "[1] 108"
      ]
     },
     "metadata": {},
     "output_type": "display_data"
    }
   ],
   "source": [
    "tax_in"
   ]
  }
 ],
 "metadata": {
  "kernelspec": {
   "display_name": "R",
   "language": "R",
   "name": "ir"
  },
  "language_info": {
   "codemirror_mode": "r",
   "file_extension": ".r",
   "mimetype": "text/x-r-source",
   "name": "R",
   "pygments_lexer": "r",
   "version": "3.4.1"
  },
  "toc": {
   "colors": {
    "hover_highlight": "#DAA520",
    "navigate_num": "#000000",
    "navigate_text": "#333333",
    "running_highlight": "#FF0000",
    "selected_highlight": "#FFD700",
    "sidebar_border": "#EEEEEE",
    "wrapper_background": "#FFFFFF"
   },
   "moveMenuLeft": true,
   "nav_menu": {
    "height": "55px",
    "width": "254px"
   },
   "navigate_menu": true,
   "number_sections": false,
   "sideBar": true,
   "threshold": 4,
   "toc_cell": false,
   "toc_section_display": "block",
   "toc_window_display": false,
   "widenNotebook": false
  }
 },
 "nbformat": 4,
 "nbformat_minor": 2
}
