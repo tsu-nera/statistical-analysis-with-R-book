{
 "cells": [
  {
   "cell_type": "markdown",
   "metadata": {},
   "source": [
    "# Chapter5"
   ]
  },
  {
   "cell_type": "code",
   "execution_count": 1,
   "metadata": {
    "collapsed": true
   },
   "outputs": [],
   "source": [
    "getSd <- function(x) {                  # 標本分散をもとに標準偏差を返す関数\n",
    "  return(                               # 標準偏差を返す\n",
    "    sqrt(                               # 分散の平方根\n",
    "      sum((x - mean(x))^2) / length(x)) # 分散の計算式\n",
    "  )\n",
    "}"
   ]
  },
  {
   "cell_type": "code",
   "execution_count": 2,
   "metadata": {
    "collapsed": true
   },
   "outputs": [],
   "source": [
    "data <- read.table(                     # 売上状況.txtをdataに代入\n",
    "  \"data/売上状況.txt\",\n",
    "  header=T,                             # 1行目は列名であることを指定\n",
    "  fileEncoding=\"CP932\"                  # 文字コードをShift_JISに指定\n",
    ")"
   ]
  },
  {
   "cell_type": "code",
   "execution_count": 3,
   "metadata": {
    "collapsed": true
   },
   "outputs": [],
   "source": [
    "# 必要なデータを用意\n",
    "num <- data$売上額                      # 売上額のデータをベクトルに代入\n",
    "sdv <- getSd(num)                       # 売上額の標準偏差を求める\n",
    "seq <- seq(30, 60, by=5)                # 10～100までの5刻みのシーケンスを生成"
   ]
  },
  {
   "cell_type": "code",
   "execution_count": 4,
   "metadata": {
    "collapsed": true
   },
   "outputs": [],
   "source": [
    "# 累積確率を求める\n",
    "cmp <- pnorm(\n",
    "  seq,                                  # 累積確率を求めるデータ\n",
    "  mean       = mean(data$売上額),       # 来店者数の平均\n",
    "  sd         = sdv,                     # 来店者数の標準偏差\n",
    "  lower.tail = TRUE                     # 累積確率を求める\n",
    "  )"
   ]
  },
  {
   "cell_type": "code",
   "execution_count": 7,
   "metadata": {
    "collapsed": false
   },
   "outputs": [
    {
     "data": {
      "text/html": [
       "<ol class=list-inline>\n",
       "\t<li>0.246854796062356</li>\n",
       "\t<li>0.394049272481705</li>\n",
       "\t<li>0.558378535323777</li>\n",
       "\t<li>0.713112143831634</li>\n",
       "\t<li>0.835997359212345</li>\n",
       "\t<li>0.9183079247074</li>\n",
       "\t<li>0.964807089432993</li>\n",
       "</ol>\n"
      ],
      "text/latex": [
       "\\begin{enumerate*}\n",
       "\\item 0.246854796062356\n",
       "\\item 0.394049272481705\n",
       "\\item 0.558378535323777\n",
       "\\item 0.713112143831634\n",
       "\\item 0.835997359212345\n",
       "\\item 0.9183079247074\n",
       "\\item 0.964807089432993\n",
       "\\end{enumerate*}\n"
      ],
      "text/markdown": [
       "1. 0.246854796062356\n",
       "2. 0.394049272481705\n",
       "3. 0.558378535323777\n",
       "4. 0.713112143831634\n",
       "5. 0.835997359212345\n",
       "6. 0.9183079247074\n",
       "7. 0.964807089432993\n",
       "\n",
       "\n"
      ],
      "text/plain": [
       "[1] 0.2468548 0.3940493 0.5583785 0.7131121 0.8359974 0.9183079 0.9648071"
      ]
     },
     "metadata": {},
     "output_type": "display_data"
    }
   ],
   "source": [
    "cmp"
   ]
  },
  {
   "cell_type": "code",
   "execution_count": 8,
   "metadata": {
    "collapsed": true
   },
   "outputs": [],
   "source": [
    "# 5万円刻みの売上額と累積確率のデータフレームを作成\n",
    "cp_frm <- data.frame(\n",
    "  \"売上額\"=seq,\n",
    "  \"累積確率\"=cmp\n",
    "  )"
   ]
  },
  {
   "cell_type": "code",
   "execution_count": 9,
   "metadata": {
    "collapsed": true
   },
   "outputs": [],
   "source": [
    "how = 1 - cp_frm[3,2]"
   ]
  },
  {
   "cell_type": "code",
   "execution_count": 10,
   "metadata": {
    "collapsed": false
   },
   "outputs": [
    {
     "data": {
      "text/html": [
       "0.441621464676223"
      ],
      "text/latex": [
       "0.441621464676223"
      ],
      "text/markdown": [
       "0.441621464676223"
      ],
      "text/plain": [
       "[1] 0.4416215"
      ]
     },
     "metadata": {},
     "output_type": "display_data"
    }
   ],
   "source": [
    "how"
   ]
  },
  {
   "cell_type": "code",
   "execution_count": 11,
   "metadata": {
    "collapsed": true
   },
   "outputs": [],
   "source": [
    "data <- read.table(           # テスト結果.txtをdataに代入\n",
    "  \"data/テスト結果.txt\",\n",
    "  header=T,                   # 1行目は列名であることを指定\n",
    "  fileEncoding=\"CP932\"        # 文字コードをShift_JISに指定\n",
    ")"
   ]
  },
  {
   "cell_type": "code",
   "execution_count": 12,
   "metadata": {
    "collapsed": true
   },
   "outputs": [],
   "source": [
    "num <- data$得点              # テスト結果の得点をベクトルに代入\n",
    "sdv <- getSd(num)             # 得点の標準偏差を求める\n",
    "men <- mean(num)              # 得点の平均\n",
    "dev <- \n",
    "  (data$得点-men) / sdv*10+50 # 全員の偏差値を求める\n",
    "\n",
    "data <- cbind(                # 偏差値を追加したデータフレームを生成\n",
    "  data,                       # もとのデータフレーム\n",
    "  data.frame(\"偏差値\" = dev)  # 偏差値のデータフレーム\n",
    "\n",
    "  )"
   ]
  },
  {
   "cell_type": "code",
   "execution_count": 13,
   "metadata": {
    "collapsed": false
   },
   "outputs": [
    {
     "data": {
      "text/html": [
       "<ol class=list-inline>\n",
       "\t<li>63.0846677759004</li>\n",
       "\t<li>63.0846677759004</li>\n",
       "\t<li>60.7756087566239</li>\n",
       "\t<li>53.8484316987942</li>\n",
       "\t<li>56.1574907180708</li>\n",
       "\t<li>58.4665497373473</li>\n",
       "\t<li>35.3759595445819</li>\n",
       "\t<li>44.6121956216881</li>\n",
       "\t<li>44.6121956216881</li>\n",
       "\t<li>65.393726795177</li>\n",
       "\t<li>33.0669005253053</li>\n",
       "\t<li>51.5393726795177</li>\n",
       "\t<li>33.0669005253053</li>\n",
       "\t<li>49.2303136602412</li>\n",
       "\t<li>39.994077583135</li>\n",
       "\t<li>63.0846677759004</li>\n",
       "\t<li>37.6850185638584</li>\n",
       "\t<li>65.393726795177</li>\n",
       "\t<li>56.1574907180708</li>\n",
       "\t<li>46.9212546409646</li>\n",
       "\t<li>46.9212546409646</li>\n",
       "\t<li>51.5393726795177</li>\n",
       "\t<li>56.1574907180708</li>\n",
       "\t<li>53.8484316987942</li>\n",
       "\t<li>39.994077583135</li>\n",
       "\t<li>33.0669005253053</li>\n",
       "\t<li>39.994077583135</li>\n",
       "\t<li>49.2303136602412</li>\n",
       "\t<li>58.4665497373473</li>\n",
       "\t<li>49.2303136602412</li>\n",
       "</ol>\n"
      ],
      "text/latex": [
       "\\begin{enumerate*}\n",
       "\\item 63.0846677759004\n",
       "\\item 63.0846677759004\n",
       "\\item 60.7756087566239\n",
       "\\item 53.8484316987942\n",
       "\\item 56.1574907180708\n",
       "\\item 58.4665497373473\n",
       "\\item 35.3759595445819\n",
       "\\item 44.6121956216881\n",
       "\\item 44.6121956216881\n",
       "\\item 65.393726795177\n",
       "\\item 33.0669005253053\n",
       "\\item 51.5393726795177\n",
       "\\item 33.0669005253053\n",
       "\\item 49.2303136602412\n",
       "\\item 39.994077583135\n",
       "\\item 63.0846677759004\n",
       "\\item 37.6850185638584\n",
       "\\item 65.393726795177\n",
       "\\item 56.1574907180708\n",
       "\\item 46.9212546409646\n",
       "\\item 46.9212546409646\n",
       "\\item 51.5393726795177\n",
       "\\item 56.1574907180708\n",
       "\\item 53.8484316987942\n",
       "\\item 39.994077583135\n",
       "\\item 33.0669005253053\n",
       "\\item 39.994077583135\n",
       "\\item 49.2303136602412\n",
       "\\item 58.4665497373473\n",
       "\\item 49.2303136602412\n",
       "\\end{enumerate*}\n"
      ],
      "text/markdown": [
       "1. 63.0846677759004\n",
       "2. 63.0846677759004\n",
       "3. 60.7756087566239\n",
       "4. 53.8484316987942\n",
       "5. 56.1574907180708\n",
       "6. 58.4665497373473\n",
       "7. 35.3759595445819\n",
       "8. 44.6121956216881\n",
       "9. 44.6121956216881\n",
       "10. 65.393726795177\n",
       "11. 33.0669005253053\n",
       "12. 51.5393726795177\n",
       "13. 33.0669005253053\n",
       "14. 49.2303136602412\n",
       "15. 39.994077583135\n",
       "16. 63.0846677759004\n",
       "17. 37.6850185638584\n",
       "18. 65.393726795177\n",
       "19. 56.1574907180708\n",
       "20. 46.9212546409646\n",
       "21. 46.9212546409646\n",
       "22. 51.5393726795177\n",
       "23. 56.1574907180708\n",
       "24. 53.8484316987942\n",
       "25. 39.994077583135\n",
       "26. 33.0669005253053\n",
       "27. 39.994077583135\n",
       "28. 49.2303136602412\n",
       "29. 58.4665497373473\n",
       "30. 49.2303136602412\n",
       "\n",
       "\n"
      ],
      "text/plain": [
       " [1] 63.08467 63.08467 60.77561 53.84843 56.15749 58.46655 35.37596 44.61220\n",
       " [9] 44.61220 65.39373 33.06690 51.53937 33.06690 49.23031 39.99408 63.08467\n",
       "[17] 37.68502 65.39373 56.15749 46.92125 46.92125 51.53937 56.15749 53.84843\n",
       "[25] 39.99408 33.06690 39.99408 49.23031 58.46655 49.23031"
      ]
     },
     "metadata": {},
     "output_type": "display_data"
    }
   ],
   "source": [
    "dev"
   ]
  },
  {
   "cell_type": "code",
   "execution_count": 14,
   "metadata": {
    "collapsed": false
   },
   "outputs": [
    {
     "data": {
      "text/html": [
       "<table>\n",
       "<thead><tr><th scope=col>得点</th><th scope=col>偏差値</th></tr></thead>\n",
       "<tbody>\n",
       "\t<tr><td>87      </td><td>63.08467</td></tr>\n",
       "\t<tr><td>87      </td><td>63.08467</td></tr>\n",
       "\t<tr><td>84      </td><td>60.77561</td></tr>\n",
       "\t<tr><td>75      </td><td>53.84843</td></tr>\n",
       "\t<tr><td>78      </td><td>56.15749</td></tr>\n",
       "\t<tr><td>81      </td><td>58.46655</td></tr>\n",
       "\t<tr><td>51      </td><td>35.37596</td></tr>\n",
       "\t<tr><td>63      </td><td>44.61220</td></tr>\n",
       "\t<tr><td>63      </td><td>44.61220</td></tr>\n",
       "\t<tr><td>90      </td><td>65.39373</td></tr>\n",
       "\t<tr><td>48      </td><td>33.06690</td></tr>\n",
       "\t<tr><td>72      </td><td>51.53937</td></tr>\n",
       "\t<tr><td>48      </td><td>33.06690</td></tr>\n",
       "\t<tr><td>69      </td><td>49.23031</td></tr>\n",
       "\t<tr><td>57      </td><td>39.99408</td></tr>\n",
       "\t<tr><td>87      </td><td>63.08467</td></tr>\n",
       "\t<tr><td>54      </td><td>37.68502</td></tr>\n",
       "\t<tr><td>90      </td><td>65.39373</td></tr>\n",
       "\t<tr><td>78      </td><td>56.15749</td></tr>\n",
       "\t<tr><td>66      </td><td>46.92125</td></tr>\n",
       "\t<tr><td>66      </td><td>46.92125</td></tr>\n",
       "\t<tr><td>72      </td><td>51.53937</td></tr>\n",
       "\t<tr><td>78      </td><td>56.15749</td></tr>\n",
       "\t<tr><td>75      </td><td>53.84843</td></tr>\n",
       "\t<tr><td>57      </td><td>39.99408</td></tr>\n",
       "\t<tr><td>48      </td><td>33.06690</td></tr>\n",
       "\t<tr><td>57      </td><td>39.99408</td></tr>\n",
       "\t<tr><td>69      </td><td>49.23031</td></tr>\n",
       "\t<tr><td>81      </td><td>58.46655</td></tr>\n",
       "\t<tr><td>69      </td><td>49.23031</td></tr>\n",
       "</tbody>\n",
       "</table>\n"
      ],
      "text/latex": [
       "\\begin{tabular}{r|ll}\n",
       " 得点 & 偏差値\\\\\n",
       "\\hline\n",
       "\t 87       & 63.08467\\\\\n",
       "\t 87       & 63.08467\\\\\n",
       "\t 84       & 60.77561\\\\\n",
       "\t 75       & 53.84843\\\\\n",
       "\t 78       & 56.15749\\\\\n",
       "\t 81       & 58.46655\\\\\n",
       "\t 51       & 35.37596\\\\\n",
       "\t 63       & 44.61220\\\\\n",
       "\t 63       & 44.61220\\\\\n",
       "\t 90       & 65.39373\\\\\n",
       "\t 48       & 33.06690\\\\\n",
       "\t 72       & 51.53937\\\\\n",
       "\t 48       & 33.06690\\\\\n",
       "\t 69       & 49.23031\\\\\n",
       "\t 57       & 39.99408\\\\\n",
       "\t 87       & 63.08467\\\\\n",
       "\t 54       & 37.68502\\\\\n",
       "\t 90       & 65.39373\\\\\n",
       "\t 78       & 56.15749\\\\\n",
       "\t 66       & 46.92125\\\\\n",
       "\t 66       & 46.92125\\\\\n",
       "\t 72       & 51.53937\\\\\n",
       "\t 78       & 56.15749\\\\\n",
       "\t 75       & 53.84843\\\\\n",
       "\t 57       & 39.99408\\\\\n",
       "\t 48       & 33.06690\\\\\n",
       "\t 57       & 39.99408\\\\\n",
       "\t 69       & 49.23031\\\\\n",
       "\t 81       & 58.46655\\\\\n",
       "\t 69       & 49.23031\\\\\n",
       "\\end{tabular}\n"
      ],
      "text/markdown": [
       "\n",
       "得点 | 偏差値 | \n",
       "|---|---|---|---|---|---|---|---|---|---|---|---|---|---|---|---|---|---|---|---|---|---|---|---|---|---|---|---|---|---|\n",
       "| 87       | 63.08467 | \n",
       "| 87       | 63.08467 | \n",
       "| 84       | 60.77561 | \n",
       "| 75       | 53.84843 | \n",
       "| 78       | 56.15749 | \n",
       "| 81       | 58.46655 | \n",
       "| 51       | 35.37596 | \n",
       "| 63       | 44.61220 | \n",
       "| 63       | 44.61220 | \n",
       "| 90       | 65.39373 | \n",
       "| 48       | 33.06690 | \n",
       "| 72       | 51.53937 | \n",
       "| 48       | 33.06690 | \n",
       "| 69       | 49.23031 | \n",
       "| 57       | 39.99408 | \n",
       "| 87       | 63.08467 | \n",
       "| 54       | 37.68502 | \n",
       "| 90       | 65.39373 | \n",
       "| 78       | 56.15749 | \n",
       "| 66       | 46.92125 | \n",
       "| 66       | 46.92125 | \n",
       "| 72       | 51.53937 | \n",
       "| 78       | 56.15749 | \n",
       "| 75       | 53.84843 | \n",
       "| 57       | 39.99408 | \n",
       "| 48       | 33.06690 | \n",
       "| 57       | 39.99408 | \n",
       "| 69       | 49.23031 | \n",
       "| 81       | 58.46655 | \n",
       "| 69       | 49.23031 | \n",
       "\n",
       "\n"
      ],
      "text/plain": [
       "   得点 偏差値  \n",
       "1  87   63.08467\n",
       "2  87   63.08467\n",
       "3  84   60.77561\n",
       "4  75   53.84843\n",
       "5  78   56.15749\n",
       "6  81   58.46655\n",
       "7  51   35.37596\n",
       "8  63   44.61220\n",
       "9  63   44.61220\n",
       "10 90   65.39373\n",
       "11 48   33.06690\n",
       "12 72   51.53937\n",
       "13 48   33.06690\n",
       "14 69   49.23031\n",
       "15 57   39.99408\n",
       "16 87   63.08467\n",
       "17 54   37.68502\n",
       "18 90   65.39373\n",
       "19 78   56.15749\n",
       "20 66   46.92125\n",
       "21 66   46.92125\n",
       "22 72   51.53937\n",
       "23 78   56.15749\n",
       "24 75   53.84843\n",
       "25 57   39.99408\n",
       "26 48   33.06690\n",
       "27 57   39.99408\n",
       "28 69   49.23031\n",
       "29 81   58.46655\n",
       "30 69   49.23031"
      ]
     },
     "metadata": {},
     "output_type": "display_data"
    }
   ],
   "source": [
    "data"
   ]
  },
  {
   "cell_type": "code",
   "execution_count": 15,
   "metadata": {
    "collapsed": false
   },
   "outputs": [
    {
     "data": {
      "text/html": [
       "0.977249868051821"
      ],
      "text/latex": [
       "0.977249868051821"
      ],
      "text/markdown": [
       "0.977249868051821"
      ],
      "text/plain": [
       "[1] 0.9772499"
      ]
     },
     "metadata": {},
     "output_type": "display_data"
    }
   ],
   "source": [
    "pnorm(80, mean = 60, 10)"
   ]
  },
  {
   "cell_type": "code",
   "execution_count": 18,
   "metadata": {
    "collapsed": false
   },
   "outputs": [
    {
     "data": {
      "text/html": [
       "0.0227501319481792"
      ],
      "text/latex": [
       "0.0227501319481792"
      ],
      "text/markdown": [
       "0.0227501319481792"
      ],
      "text/plain": [
       "[1] 0.02275013"
      ]
     },
     "metadata": {},
     "output_type": "display_data"
    }
   ],
   "source": [
    "1- pnorm(80, mean = 60, 10)"
   ]
  },
  {
   "cell_type": "code",
   "execution_count": 19,
   "metadata": {
    "collapsed": false
   },
   "outputs": [
    {
     "data": {
      "text/html": [
       "1.64485362695147"
      ],
      "text/latex": [
       "1.64485362695147"
      ],
      "text/markdown": [
       "1.64485362695147"
      ],
      "text/plain": [
       "[1] 1.644854"
      ]
     },
     "metadata": {},
     "output_type": "display_data"
    }
   ],
   "source": [
    "qnorm(0.5 + 0.45, mean=0, sd=1)"
   ]
  },
  {
   "cell_type": "code",
   "execution_count": 20,
   "metadata": {
    "collapsed": true
   },
   "outputs": [],
   "source": [
    "getDisper <- function(x) {                # 分散を返す関数\n",
    "  dev <- x - mean(x)                      # 偏差を求める\n",
    "  return(sum(dev^2) / length(x))          # 分散を返す\n",
    "}\n",
    "\n",
    "test <- c(                                # テスト結果\n",
    "  75, 68, 96, 76, 84, 74, 64,\t94,\t77,\t82,\n",
    "  86,\t56,\t82,\t69,\t59,\t81,\t61,\t85,\t64,\t63,\n",
    "  68,\t79,\t61,\t57,\t63,\t89,\t74,\t63,\t71,\t69,\n",
    "  95,\t84,\t76\n",
    "  )\n",
    "\n",
    "m1 <- mean(test[1:5])                     # 平均\n",
    "d1 <- getDisper(test[1:5])                # 分散\n",
    "\n",
    "d2 <- var(test[1:5])                      # 不偏分散"
   ]
  },
  {
   "cell_type": "code",
   "execution_count": 21,
   "metadata": {
    "collapsed": false
   },
   "outputs": [
    {
     "data": {
      "text/html": [
       "79.8"
      ],
      "text/latex": [
       "79.8"
      ],
      "text/markdown": [
       "79.8"
      ],
      "text/plain": [
       "[1] 79.8"
      ]
     },
     "metadata": {},
     "output_type": "display_data"
    }
   ],
   "source": [
    "m1"
   ]
  },
  {
   "cell_type": "code",
   "execution_count": 23,
   "metadata": {
    "collapsed": false
   },
   "outputs": [
    {
     "data": {
      "text/html": [
       "91.36"
      ],
      "text/latex": [
       "91.36"
      ],
      "text/markdown": [
       "91.36"
      ],
      "text/plain": [
       "[1] 91.36"
      ]
     },
     "metadata": {},
     "output_type": "display_data"
    }
   ],
   "source": [
    "d1"
   ]
  },
  {
   "cell_type": "code",
   "execution_count": 24,
   "metadata": {
    "collapsed": false
   },
   "outputs": [
    {
     "data": {
      "text/html": [
       "114.2"
      ],
      "text/latex": [
       "114.2"
      ],
      "text/markdown": [
       "114.2"
      ],
      "text/plain": [
       "[1] 114.2"
      ]
     },
     "metadata": {},
     "output_type": "display_data"
    }
   ],
   "source": [
    "d2"
   ]
  },
  {
   "cell_type": "code",
   "execution_count": 25,
   "metadata": {
    "collapsed": false
   },
   "outputs": [
    {
     "data": {
      "image/png": "[encoded data removed]",
      "text/plain": [
       "Plot with title “Histogram of temp”"
      ]
     },
     "metadata": {},
     "output_type": "display_data"
    }
   ],
   "source": [
    "temp<-floor(\n",
    "  runif(6,      # 試行回数\n",
    "        1,      # 出力する乱数の最小値\n",
    "        7       # 出力する乱数の最大値の次の値\n",
    "  )\n",
    ")\n",
    "\n",
    "hist(           # ヒストグラムを作成\n",
    "  temp,\n",
    "  breaks = seq(\n",
    "    0,          # 下限\n",
    "    6,          # 上限\n",
    "    1           # 階級の幅\n",
    "  ),\n",
    "  freq = TRUE,  # 度数を表示する\n",
    "  col=\"red\"     # 棒の色は赤\n",
    ")"
   ]
  },
  {
   "cell_type": "code",
   "execution_count": 26,
   "metadata": {
    "collapsed": false
   },
   "outputs": [
    {
     "data": {
      "image/png": "[encoded data removed]",
      "text/plain": [
       "Plot with title “Histogram of temp”"
      ]
     },
     "metadata": {},
     "output_type": "display_data"
    }
   ],
   "source": [
    "temp<-floor(\n",
    "  runif(5000000,# 試行回数\n",
    "        1,      # 出力する乱数の最小値\n",
    "        7       # 出力する乱数の最大値の次の値\n",
    "  )\n",
    ")\n",
    "\n",
    "hist(           # ヒストグラムを作成\n",
    "  temp,\n",
    "  breaks = seq(\n",
    "    0,          # 下限\n",
    "    6,          # 上限\n",
    "    1           # 階級の幅\n",
    "  ),\n",
    "  freq = FALSE, # 相対度数を表示する\n",
    "  col=\"red\"     # 棒の色は赤\n",
    ")"
   ]
  },
  {
   "cell_type": "code",
   "execution_count": 27,
   "metadata": {
    "collapsed": false
   },
   "outputs": [
    {
     "data": {
      "image/png": "[encoded data removed]",
      "text/plain": [
       "Plot with title “Histogram of sample_m”"
      ]
     },
     "metadata": {},
     "output_type": "display_data"
    }
   ],
   "source": [
    "data <- read.table(             # テスト結果.txtをdataに代入\n",
    "  \"data/計測結果.txt\",\n",
    "  header=T,                     # 1行目は列名であることを指定\n",
    "  fileEncoding=\"CP932\"          # 文字コードをShift_JISに指定\n",
    ")\n",
    "\n",
    "sample_m <- as.numeric(NULL)    # 空の実数型ベクトルを用意\n",
    "\n",
    "for (i in 1:15){                # 処理を15回繰り返す\n",
    "  sample   <- sample(           # 抽出したサンプルをベクトルに代入\n",
    "    data$容量,                  # 抽出元のデータ\n",
    "    5,                          # サンプルサイズ\n",
    "    replace = FALSE             # 復元抽出は行わない\n",
    "    )\n",
    "  # 標本平均をベクトルに追加\n",
    "  sample_m <- c(sample_m, mean(sample))\n",
    "}\n",
    "\n",
    "s_mean <- mean(sample_m)        # 標本平均の平均を求める\n",
    "p_mean <- mean(data$容量)       # 元データの平均\n",
    "\n",
    "hist(\n",
    "  sample_m,                     # すべての標本平均をヒストグラムにする\n",
    "  freq = FALSE,                 # 相対度数を表示する\n",
    "  col=\"red\"                     # 棒の色は赤\n",
    ")"
   ]
  },
  {
   "cell_type": "code",
   "execution_count": 31,
   "metadata": {
    "collapsed": false
   },
   "outputs": [
    {
     "data": {
      "text/html": [
       "180.893333333333"
      ],
      "text/latex": [
       "180.893333333333"
      ],
      "text/markdown": [
       "180.893333333333"
      ],
      "text/plain": [
       "[1] 180.8933"
      ]
     },
     "metadata": {},
     "output_type": "display_data"
    },
    {
     "data": {
      "text/html": [
       "181.36"
      ],
      "text/latex": [
       "181.36"
      ],
      "text/markdown": [
       "181.36"
      ],
      "text/plain": [
       "[1] 181.36"
      ]
     },
     "metadata": {},
     "output_type": "display_data"
    }
   ],
   "source": [
    "s_mean;p_mean"
   ]
  },
  {
   "cell_type": "code",
   "execution_count": 33,
   "metadata": {
    "collapsed": false
   },
   "outputs": [],
   "source": [
    "getDisper <- function(x) {       # 標本分散を返す関数\n",
    "  dev <- x - mean(x)             # 偏差を求める\n",
    "  return(sum(dev^2) / length(x)) # 分散を返す\n",
    "}\n",
    "\n",
    "data <- read.table(              # 計測結果結果.txtをdataに代入\n",
    "  \"data/計測結果.txt\",\n",
    "  header=T,                      # 1行目は列名であることを指定\n",
    "  fileEncoding=\"CP932\"           # 文字コードをShift_JISに指定\n",
    ")\n",
    "\n",
    "sample_m <- as.numeric(NULL)     # 空の実数型ベクトルを用意\n",
    "\n",
    "for (i in 1:15){                 # 処理を15回繰り返す\n",
    "  sample   <- sample(\n",
    "    data$容量,                   # 抽出元のデータ\n",
    "    5,                           # サンプルサイズ\n",
    "    replace = FALSE              # 復元抽出は行わない\n",
    "  )\n",
    "  # サンプルの平均をベクトルに追加\n",
    "  sample_m <- c(sample_m, mean(sample))\n",
    "}\n",
    "\n",
    "s_mean <- mean(sample_m)        # 標本平均の平均\n",
    "s_var  <- getDisper(sample_m)   # 標本平均の分散\n",
    "p_mean <- mean(data$容量)       # 母集団の平均\n",
    "p_var  <- getDisper(data$容量)  # 母集団の分散"
   ]
  },
  {
   "cell_type": "code",
   "execution_count": 34,
   "metadata": {
    "collapsed": false
   },
   "outputs": [
    {
     "data": {
      "text/html": [
       "181.626666666667"
      ],
      "text/latex": [
       "181.626666666667"
      ],
      "text/markdown": [
       "181.626666666667"
      ],
      "text/plain": [
       "[1] 181.6267"
      ]
     },
     "metadata": {},
     "output_type": "display_data"
    },
    {
     "data": {
      "text/html": [
       "20.3352888888889"
      ],
      "text/latex": [
       "20.3352888888889"
      ],
      "text/markdown": [
       "20.3352888888889"
      ],
      "text/plain": [
       "[1] 20.33529"
      ]
     },
     "metadata": {},
     "output_type": "display_data"
    },
    {
     "data": {
      "text/html": [
       "181.36"
      ],
      "text/latex": [
       "181.36"
      ],
      "text/markdown": [
       "181.36"
      ],
      "text/plain": [
       "[1] 181.36"
      ]
     },
     "metadata": {},
     "output_type": "display_data"
    },
    {
     "data": {
      "text/html": [
       "131.9904"
      ],
      "text/latex": [
       "131.9904"
      ],
      "text/markdown": [
       "131.9904"
      ],
      "text/plain": [
       "[1] 131.9904"
      ]
     },
     "metadata": {},
     "output_type": "display_data"
    }
   ],
   "source": [
    "s_mean; s_var; p_mean; p_var"
   ]
  },
  {
   "cell_type": "code",
   "execution_count": 36,
   "metadata": {
    "collapsed": false
   },
   "outputs": [],
   "source": [
    "getDisper <- function(x) {       # 標本分散を返す関数\n",
    "  dev <- x - mean(x)             # 偏差を求める\n",
    "  return(sum(dev^2) / length(x)) # 分散を返す\n",
    "}\n",
    "\n",
    "data <- read.table(              # 計測結果結果.txtをdataに代入\n",
    "  \"data/計測結果.txt\",\n",
    "  header=T,                      # 1行目は列名であることを指定\n",
    "  fileEncoding=\"CP932\"           # 文字コードをShift_JISに指定\n",
    ")\n",
    "\n",
    "sample_m  <- as.numeric(NULL)    # 標本平均を格納するベクトルを用意\n",
    "sample_v  <- as.numeric(NULL)    # 標本分散を格納するベクトルを用意\n",
    "sample_uv <- as.numeric(NULL)    # 標本分散を格納するベクトルを用意\n",
    "\n",
    "for (i in 1:15){                 # 処理を15回繰り返す\n",
    "  sample   <- sample(\n",
    "    data$容量,                   # 抽出元のデータ\n",
    "    5,                           # サンプルサイズ\n",
    "    replace = FALSE              # 復元抽出は行わない\n",
    "  )\n",
    "  # サンプルの平均をベクトルに追加\n",
    "  sample_m  <- c(sample_m, mean(sample))\n",
    "  # サンプルの分散を求めてベクトルに追加\n",
    "  # サンプル平均はgetDisper()で計算される\n",
    "  sample_v  <- c(sample_v, getDisper(sample))\n",
    "  # サンプルの普遍分散を求めてベクトルに追加\n",
    "  sample_uv <- c(sample_uv, var(sample))\n",
    "}\n",
    "\n",
    "s_mean    <- mean(sample_m)       # 標本平均の平均\n",
    "s_mean_v  <- mean(sample_v)       # 標本分散の平均\n",
    "s_mean_uv <- mean(sample_uv)      # 不偏分散の平均\n",
    "p_mean    <- mean(data$容量)      # 母集団の平均\n",
    "p_var     <- getDisper(data$容量) # 母集団の分散"
   ]
  },
  {
   "cell_type": "code",
   "execution_count": 37,
   "metadata": {
    "collapsed": false
   },
   "outputs": [
    {
     "data": {
      "text/html": [
       "183.066666666667"
      ],
      "text/latex": [
       "183.066666666667"
      ],
      "text/markdown": [
       "183.066666666667"
      ],
      "text/plain": [
       "[1] 183.0667"
      ]
     },
     "metadata": {},
     "output_type": "display_data"
    },
    {
     "data": {
      "text/html": [
       "113.877333333333"
      ],
      "text/latex": [
       "113.877333333333"
      ],
      "text/markdown": [
       "113.877333333333"
      ],
      "text/plain": [
       "[1] 113.8773"
      ]
     },
     "metadata": {},
     "output_type": "display_data"
    },
    {
     "data": {
      "text/html": [
       "142.346666666667"
      ],
      "text/latex": [
       "142.346666666667"
      ],
      "text/markdown": [
       "142.346666666667"
      ],
      "text/plain": [
       "[1] 142.3467"
      ]
     },
     "metadata": {},
     "output_type": "display_data"
    },
    {
     "data": {
      "text/html": [
       "181.36"
      ],
      "text/latex": [
       "181.36"
      ],
      "text/markdown": [
       "181.36"
      ],
      "text/plain": [
       "[1] 181.36"
      ]
     },
     "metadata": {},
     "output_type": "display_data"
    },
    {
     "data": {
      "text/html": [
       "131.9904"
      ],
      "text/latex": [
       "131.9904"
      ],
      "text/markdown": [
       "131.9904"
      ],
      "text/plain": [
       "[1] 131.9904"
      ]
     },
     "metadata": {},
     "output_type": "display_data"
    }
   ],
   "source": [
    "s_mean; s_mean_v; s_mean_uv; p_mean; p_var"
   ]
  },
  {
   "cell_type": "code",
   "execution_count": null,
   "metadata": {
    "collapsed": true
   },
   "outputs": [],
   "source": []
  }
 ],
 "metadata": {
  "kernelspec": {
   "display_name": "R",
   "language": "R",
   "name": "ir"
  },
  "language_info": {
   "codemirror_mode": "r",
   "file_extension": ".r",
   "mimetype": "text/x-r-source",
   "name": "R",
   "pygments_lexer": "r",
   "version": "3.4.1"
  },
  "toc": {
   "colors": {
    "hover_highlight": "#DAA520",
    "navigate_num": "#000000",
    "navigate_text": "#333333",
    "running_highlight": "#FF0000",
    "selected_highlight": "#FFD700",
    "sidebar_border": "#EEEEEE",
    "wrapper_background": "#FFFFFF"
   },
   "moveMenuLeft": true,
   "nav_menu": {
    "height": "21px",
    "width": "254px"
   },
   "navigate_menu": true,
   "number_sections": false,
   "sideBar": true,
   "threshold": 4,
   "toc_cell": false,
   "toc_section_display": "block",
   "toc_window_display": false,
   "widenNotebook": false
  }
 },
 "nbformat": 4,
 "nbformat_minor": 2
}
